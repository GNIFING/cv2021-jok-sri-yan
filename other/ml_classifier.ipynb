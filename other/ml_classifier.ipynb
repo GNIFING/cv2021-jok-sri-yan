{
  "nbformat": 4,
  "nbformat_minor": 0,
  "metadata": {
    "colab": {
      "name": "train-classifier.ipynb",
      "provenance": [],
      "collapsed_sections": []
    },
    "kernelspec": {
      "name": "python3",
      "display_name": "Python 3"
    },
    "language_info": {
      "name": "python"
    }
  },
  "cells": [
    {
      "cell_type": "code",
      "source": [
        "from google.colab import drive\n",
        "drive.mount('/content/drive')"
      ],
      "metadata": {
        "id": "u0GNYtd3wHzk",
        "colab": {
          "base_uri": "https://localhost:8080/"
        },
        "outputId": "21537b37-aed5-46dc-b6c1-a50ad88b0ef8"
      },
      "execution_count": null,
      "outputs": [
        {
          "output_type": "stream",
          "name": "stdout",
          "text": [
            "Drive already mounted at /content/drive; to attempt to forcibly remount, call drive.mount(\"/content/drive\", force_remount=True).\n"
          ]
        }
      ]
    },
    {
      "cell_type": "code",
      "execution_count": null,
      "metadata": {
        "id": "m5r8xhcbrTe9"
      },
      "outputs": [],
      "source": [
        "import numpy as np\n",
        "import pandas as pd\n",
        "import matplotlib.pyplot as plt"
      ]
    },
    {
      "cell_type": "code",
      "source": [
        "df = pd.read_csv(\"/content/drive/Shareddrives/computer-vision/landmarks_fixed.csv\")\n",
        "df.drop(columns=[\"Unnamed: 0\"], inplace=True)\n",
        "df"
      ],
      "metadata": {
        "colab": {
          "base_uri": "https://localhost:8080/",
          "height": 488
        },
        "id": "BLZueBOEsEb0",
        "outputId": "fca416a3-97ee-4242-b6d7-00f789008aa5"
      },
      "execution_count": null,
      "outputs": [
        {
          "output_type": "execute_result",
          "data": {
            "text/plain": [
              "           x0        y0        z0  visibility0        x1        y1        z1  \\\n",
              "0    0.017942 -0.614115 -0.324684     0.999968  0.037722 -0.631337 -0.311465   \n",
              "1    0.018637 -0.597788 -0.349394     0.999958  0.037871 -0.617472 -0.340479   \n",
              "2    0.027511 -0.590038 -0.358719     0.999983  0.047702 -0.608323 -0.347724   \n",
              "3    0.018899 -0.588885 -0.414691     0.999972  0.037577 -0.606801 -0.404381   \n",
              "4    0.020302 -0.588473 -0.325397     0.999945  0.036266 -0.606524 -0.313812   \n",
              "..        ...       ...       ...          ...       ...       ...       ...   \n",
              "350  0.082629 -0.556225 -0.230945     0.999996  0.103516 -0.578811 -0.212227   \n",
              "351  0.024288 -0.514790 -0.471134     0.999932  0.043179 -0.542101 -0.460262   \n",
              "352 -0.107360 -0.442190 -0.518749     0.999925 -0.096188 -0.478548 -0.517810   \n",
              "353 -0.102821 -0.399695 -0.535261     0.999999 -0.086363 -0.436426 -0.531507   \n",
              "354  0.090579 -0.455029 -0.558441     0.999997  0.114252 -0.485749 -0.545811   \n",
              "\n",
              "     visibility1        x2        y2  ...  visibility30       x31       y31  \\\n",
              "0       0.999891  0.039600 -0.629876  ...      0.930736  0.085112  0.817557   \n",
              "1       0.999868  0.040115 -0.616318  ...      0.951576  0.063388  0.803196   \n",
              "2       0.999946  0.050136 -0.606586  ...      0.953628  0.076926  0.819616   \n",
              "3       0.999909  0.038844 -0.604650  ...      0.960613  0.064794  0.814373   \n",
              "4       0.999814  0.038243 -0.604666  ...      0.927588  0.064318  0.834513   \n",
              "..           ...       ...       ...  ...           ...       ...       ...   \n",
              "350     0.999995  0.104357 -0.579933  ...      0.941492  0.120937  0.417848   \n",
              "351     0.999900  0.044990 -0.539001  ...      0.945279  0.086099  0.418692   \n",
              "352     0.999855 -0.094232 -0.475303  ...      0.938743  0.146599  0.528439   \n",
              "353     0.999999 -0.085264 -0.433905  ...      0.374504  0.220689  0.417742   \n",
              "354     0.999996  0.114190 -0.482215  ...      0.878482  0.123689  0.512415   \n",
              "\n",
              "          z31  visibility31       x32       y32       z32  visibility32  label  \n",
              "0    0.238597      0.980941 -0.211197  0.758264  0.144318      0.983767   Left  \n",
              "1    0.240235      0.986386 -0.212848  0.745983  0.111291      0.991144   Left  \n",
              "2    0.234101      0.988808 -0.232068  0.750802  0.107644      0.991330   Left  \n",
              "3    0.287504      0.990622 -0.214760  0.761582  0.166752      0.991755   Left  \n",
              "4    0.212448      0.978343 -0.235896  0.775620  0.093858      0.984457   Left  \n",
              "..        ...           ...       ...       ...       ...           ...    ...  \n",
              "350  0.096842      0.988055 -0.093742  0.400960  0.079801      0.957604  Under  \n",
              "351  0.054756      0.985016 -0.129176  0.418426  0.025248      0.983459  Under  \n",
              "352 -0.008251      0.984237 -0.133867  0.493709 -0.018131      0.976232  Under  \n",
              "353  0.077062      0.366292 -0.080990  0.375593  0.124713      0.248728  Under  \n",
              "354  0.127746      0.971315 -0.256667  0.517079  0.108632      0.921597  Under  \n",
              "\n",
              "[355 rows x 133 columns]"
            ],
            "text/html": [
              "\n",
              "  <div id=\"df-b54094de-e5f1-4dcf-9263-dc754f0de3bf\">\n",
              "    <div class=\"colab-df-container\">\n",
              "      <div>\n",
              "<style scoped>\n",
              "    .dataframe tbody tr th:only-of-type {\n",
              "        vertical-align: middle;\n",
              "    }\n",
              "\n",
              "    .dataframe tbody tr th {\n",
              "        vertical-align: top;\n",
              "    }\n",
              "\n",
              "    .dataframe thead th {\n",
              "        text-align: right;\n",
              "    }\n",
              "</style>\n",
              "<table border=\"1\" class=\"dataframe\">\n",
              "  <thead>\n",
              "    <tr style=\"text-align: right;\">\n",
              "      <th></th>\n",
              "      <th>x0</th>\n",
              "      <th>y0</th>\n",
              "      <th>z0</th>\n",
              "      <th>visibility0</th>\n",
              "      <th>x1</th>\n",
              "      <th>y1</th>\n",
              "      <th>z1</th>\n",
              "      <th>visibility1</th>\n",
              "      <th>x2</th>\n",
              "      <th>y2</th>\n",
              "      <th>...</th>\n",
              "      <th>visibility30</th>\n",
              "      <th>x31</th>\n",
              "      <th>y31</th>\n",
              "      <th>z31</th>\n",
              "      <th>visibility31</th>\n",
              "      <th>x32</th>\n",
              "      <th>y32</th>\n",
              "      <th>z32</th>\n",
              "      <th>visibility32</th>\n",
              "      <th>label</th>\n",
              "    </tr>\n",
              "  </thead>\n",
              "  <tbody>\n",
              "    <tr>\n",
              "      <th>0</th>\n",
              "      <td>0.017942</td>\n",
              "      <td>-0.614115</td>\n",
              "      <td>-0.324684</td>\n",
              "      <td>0.999968</td>\n",
              "      <td>0.037722</td>\n",
              "      <td>-0.631337</td>\n",
              "      <td>-0.311465</td>\n",
              "      <td>0.999891</td>\n",
              "      <td>0.039600</td>\n",
              "      <td>-0.629876</td>\n",
              "      <td>...</td>\n",
              "      <td>0.930736</td>\n",
              "      <td>0.085112</td>\n",
              "      <td>0.817557</td>\n",
              "      <td>0.238597</td>\n",
              "      <td>0.980941</td>\n",
              "      <td>-0.211197</td>\n",
              "      <td>0.758264</td>\n",
              "      <td>0.144318</td>\n",
              "      <td>0.983767</td>\n",
              "      <td>Left</td>\n",
              "    </tr>\n",
              "    <tr>\n",
              "      <th>1</th>\n",
              "      <td>0.018637</td>\n",
              "      <td>-0.597788</td>\n",
              "      <td>-0.349394</td>\n",
              "      <td>0.999958</td>\n",
              "      <td>0.037871</td>\n",
              "      <td>-0.617472</td>\n",
              "      <td>-0.340479</td>\n",
              "      <td>0.999868</td>\n",
              "      <td>0.040115</td>\n",
              "      <td>-0.616318</td>\n",
              "      <td>...</td>\n",
              "      <td>0.951576</td>\n",
              "      <td>0.063388</td>\n",
              "      <td>0.803196</td>\n",
              "      <td>0.240235</td>\n",
              "      <td>0.986386</td>\n",
              "      <td>-0.212848</td>\n",
              "      <td>0.745983</td>\n",
              "      <td>0.111291</td>\n",
              "      <td>0.991144</td>\n",
              "      <td>Left</td>\n",
              "    </tr>\n",
              "    <tr>\n",
              "      <th>2</th>\n",
              "      <td>0.027511</td>\n",
              "      <td>-0.590038</td>\n",
              "      <td>-0.358719</td>\n",
              "      <td>0.999983</td>\n",
              "      <td>0.047702</td>\n",
              "      <td>-0.608323</td>\n",
              "      <td>-0.347724</td>\n",
              "      <td>0.999946</td>\n",
              "      <td>0.050136</td>\n",
              "      <td>-0.606586</td>\n",
              "      <td>...</td>\n",
              "      <td>0.953628</td>\n",
              "      <td>0.076926</td>\n",
              "      <td>0.819616</td>\n",
              "      <td>0.234101</td>\n",
              "      <td>0.988808</td>\n",
              "      <td>-0.232068</td>\n",
              "      <td>0.750802</td>\n",
              "      <td>0.107644</td>\n",
              "      <td>0.991330</td>\n",
              "      <td>Left</td>\n",
              "    </tr>\n",
              "    <tr>\n",
              "      <th>3</th>\n",
              "      <td>0.018899</td>\n",
              "      <td>-0.588885</td>\n",
              "      <td>-0.414691</td>\n",
              "      <td>0.999972</td>\n",
              "      <td>0.037577</td>\n",
              "      <td>-0.606801</td>\n",
              "      <td>-0.404381</td>\n",
              "      <td>0.999909</td>\n",
              "      <td>0.038844</td>\n",
              "      <td>-0.604650</td>\n",
              "      <td>...</td>\n",
              "      <td>0.960613</td>\n",
              "      <td>0.064794</td>\n",
              "      <td>0.814373</td>\n",
              "      <td>0.287504</td>\n",
              "      <td>0.990622</td>\n",
              "      <td>-0.214760</td>\n",
              "      <td>0.761582</td>\n",
              "      <td>0.166752</td>\n",
              "      <td>0.991755</td>\n",
              "      <td>Left</td>\n",
              "    </tr>\n",
              "    <tr>\n",
              "      <th>4</th>\n",
              "      <td>0.020302</td>\n",
              "      <td>-0.588473</td>\n",
              "      <td>-0.325397</td>\n",
              "      <td>0.999945</td>\n",
              "      <td>0.036266</td>\n",
              "      <td>-0.606524</td>\n",
              "      <td>-0.313812</td>\n",
              "      <td>0.999814</td>\n",
              "      <td>0.038243</td>\n",
              "      <td>-0.604666</td>\n",
              "      <td>...</td>\n",
              "      <td>0.927588</td>\n",
              "      <td>0.064318</td>\n",
              "      <td>0.834513</td>\n",
              "      <td>0.212448</td>\n",
              "      <td>0.978343</td>\n",
              "      <td>-0.235896</td>\n",
              "      <td>0.775620</td>\n",
              "      <td>0.093858</td>\n",
              "      <td>0.984457</td>\n",
              "      <td>Left</td>\n",
              "    </tr>\n",
              "    <tr>\n",
              "      <th>...</th>\n",
              "      <td>...</td>\n",
              "      <td>...</td>\n",
              "      <td>...</td>\n",
              "      <td>...</td>\n",
              "      <td>...</td>\n",
              "      <td>...</td>\n",
              "      <td>...</td>\n",
              "      <td>...</td>\n",
              "      <td>...</td>\n",
              "      <td>...</td>\n",
              "      <td>...</td>\n",
              "      <td>...</td>\n",
              "      <td>...</td>\n",
              "      <td>...</td>\n",
              "      <td>...</td>\n",
              "      <td>...</td>\n",
              "      <td>...</td>\n",
              "      <td>...</td>\n",
              "      <td>...</td>\n",
              "      <td>...</td>\n",
              "      <td>...</td>\n",
              "    </tr>\n",
              "    <tr>\n",
              "      <th>350</th>\n",
              "      <td>0.082629</td>\n",
              "      <td>-0.556225</td>\n",
              "      <td>-0.230945</td>\n",
              "      <td>0.999996</td>\n",
              "      <td>0.103516</td>\n",
              "      <td>-0.578811</td>\n",
              "      <td>-0.212227</td>\n",
              "      <td>0.999995</td>\n",
              "      <td>0.104357</td>\n",
              "      <td>-0.579933</td>\n",
              "      <td>...</td>\n",
              "      <td>0.941492</td>\n",
              "      <td>0.120937</td>\n",
              "      <td>0.417848</td>\n",
              "      <td>0.096842</td>\n",
              "      <td>0.988055</td>\n",
              "      <td>-0.093742</td>\n",
              "      <td>0.400960</td>\n",
              "      <td>0.079801</td>\n",
              "      <td>0.957604</td>\n",
              "      <td>Under</td>\n",
              "    </tr>\n",
              "    <tr>\n",
              "      <th>351</th>\n",
              "      <td>0.024288</td>\n",
              "      <td>-0.514790</td>\n",
              "      <td>-0.471134</td>\n",
              "      <td>0.999932</td>\n",
              "      <td>0.043179</td>\n",
              "      <td>-0.542101</td>\n",
              "      <td>-0.460262</td>\n",
              "      <td>0.999900</td>\n",
              "      <td>0.044990</td>\n",
              "      <td>-0.539001</td>\n",
              "      <td>...</td>\n",
              "      <td>0.945279</td>\n",
              "      <td>0.086099</td>\n",
              "      <td>0.418692</td>\n",
              "      <td>0.054756</td>\n",
              "      <td>0.985016</td>\n",
              "      <td>-0.129176</td>\n",
              "      <td>0.418426</td>\n",
              "      <td>0.025248</td>\n",
              "      <td>0.983459</td>\n",
              "      <td>Under</td>\n",
              "    </tr>\n",
              "    <tr>\n",
              "      <th>352</th>\n",
              "      <td>-0.107360</td>\n",
              "      <td>-0.442190</td>\n",
              "      <td>-0.518749</td>\n",
              "      <td>0.999925</td>\n",
              "      <td>-0.096188</td>\n",
              "      <td>-0.478548</td>\n",
              "      <td>-0.517810</td>\n",
              "      <td>0.999855</td>\n",
              "      <td>-0.094232</td>\n",
              "      <td>-0.475303</td>\n",
              "      <td>...</td>\n",
              "      <td>0.938743</td>\n",
              "      <td>0.146599</td>\n",
              "      <td>0.528439</td>\n",
              "      <td>-0.008251</td>\n",
              "      <td>0.984237</td>\n",
              "      <td>-0.133867</td>\n",
              "      <td>0.493709</td>\n",
              "      <td>-0.018131</td>\n",
              "      <td>0.976232</td>\n",
              "      <td>Under</td>\n",
              "    </tr>\n",
              "    <tr>\n",
              "      <th>353</th>\n",
              "      <td>-0.102821</td>\n",
              "      <td>-0.399695</td>\n",
              "      <td>-0.535261</td>\n",
              "      <td>0.999999</td>\n",
              "      <td>-0.086363</td>\n",
              "      <td>-0.436426</td>\n",
              "      <td>-0.531507</td>\n",
              "      <td>0.999999</td>\n",
              "      <td>-0.085264</td>\n",
              "      <td>-0.433905</td>\n",
              "      <td>...</td>\n",
              "      <td>0.374504</td>\n",
              "      <td>0.220689</td>\n",
              "      <td>0.417742</td>\n",
              "      <td>0.077062</td>\n",
              "      <td>0.366292</td>\n",
              "      <td>-0.080990</td>\n",
              "      <td>0.375593</td>\n",
              "      <td>0.124713</td>\n",
              "      <td>0.248728</td>\n",
              "      <td>Under</td>\n",
              "    </tr>\n",
              "    <tr>\n",
              "      <th>354</th>\n",
              "      <td>0.090579</td>\n",
              "      <td>-0.455029</td>\n",
              "      <td>-0.558441</td>\n",
              "      <td>0.999997</td>\n",
              "      <td>0.114252</td>\n",
              "      <td>-0.485749</td>\n",
              "      <td>-0.545811</td>\n",
              "      <td>0.999996</td>\n",
              "      <td>0.114190</td>\n",
              "      <td>-0.482215</td>\n",
              "      <td>...</td>\n",
              "      <td>0.878482</td>\n",
              "      <td>0.123689</td>\n",
              "      <td>0.512415</td>\n",
              "      <td>0.127746</td>\n",
              "      <td>0.971315</td>\n",
              "      <td>-0.256667</td>\n",
              "      <td>0.517079</td>\n",
              "      <td>0.108632</td>\n",
              "      <td>0.921597</td>\n",
              "      <td>Under</td>\n",
              "    </tr>\n",
              "  </tbody>\n",
              "</table>\n",
              "<p>355 rows × 133 columns</p>\n",
              "</div>\n",
              "      <button class=\"colab-df-convert\" onclick=\"convertToInteractive('df-b54094de-e5f1-4dcf-9263-dc754f0de3bf')\"\n",
              "              title=\"Convert this dataframe to an interactive table.\"\n",
              "              style=\"display:none;\">\n",
              "        \n",
              "  <svg xmlns=\"http://www.w3.org/2000/svg\" height=\"24px\"viewBox=\"0 0 24 24\"\n",
              "       width=\"24px\">\n",
              "    <path d=\"M0 0h24v24H0V0z\" fill=\"none\"/>\n",
              "    <path d=\"M18.56 5.44l.94 2.06.94-2.06 2.06-.94-2.06-.94-.94-2.06-.94 2.06-2.06.94zm-11 1L8.5 8.5l.94-2.06 2.06-.94-2.06-.94L8.5 2.5l-.94 2.06-2.06.94zm10 10l.94 2.06.94-2.06 2.06-.94-2.06-.94-.94-2.06-.94 2.06-2.06.94z\"/><path d=\"M17.41 7.96l-1.37-1.37c-.4-.4-.92-.59-1.43-.59-.52 0-1.04.2-1.43.59L10.3 9.45l-7.72 7.72c-.78.78-.78 2.05 0 2.83L4 21.41c.39.39.9.59 1.41.59.51 0 1.02-.2 1.41-.59l7.78-7.78 2.81-2.81c.8-.78.8-2.07 0-2.86zM5.41 20L4 18.59l7.72-7.72 1.47 1.35L5.41 20z\"/>\n",
              "  </svg>\n",
              "      </button>\n",
              "      \n",
              "  <style>\n",
              "    .colab-df-container {\n",
              "      display:flex;\n",
              "      flex-wrap:wrap;\n",
              "      gap: 12px;\n",
              "    }\n",
              "\n",
              "    .colab-df-convert {\n",
              "      background-color: #E8F0FE;\n",
              "      border: none;\n",
              "      border-radius: 50%;\n",
              "      cursor: pointer;\n",
              "      display: none;\n",
              "      fill: #1967D2;\n",
              "      height: 32px;\n",
              "      padding: 0 0 0 0;\n",
              "      width: 32px;\n",
              "    }\n",
              "\n",
              "    .colab-df-convert:hover {\n",
              "      background-color: #E2EBFA;\n",
              "      box-shadow: 0px 1px 2px rgba(60, 64, 67, 0.3), 0px 1px 3px 1px rgba(60, 64, 67, 0.15);\n",
              "      fill: #174EA6;\n",
              "    }\n",
              "\n",
              "    [theme=dark] .colab-df-convert {\n",
              "      background-color: #3B4455;\n",
              "      fill: #D2E3FC;\n",
              "    }\n",
              "\n",
              "    [theme=dark] .colab-df-convert:hover {\n",
              "      background-color: #434B5C;\n",
              "      box-shadow: 0px 1px 3px 1px rgba(0, 0, 0, 0.15);\n",
              "      filter: drop-shadow(0px 1px 2px rgba(0, 0, 0, 0.3));\n",
              "      fill: #FFFFFF;\n",
              "    }\n",
              "  </style>\n",
              "\n",
              "      <script>\n",
              "        const buttonEl =\n",
              "          document.querySelector('#df-b54094de-e5f1-4dcf-9263-dc754f0de3bf button.colab-df-convert');\n",
              "        buttonEl.style.display =\n",
              "          google.colab.kernel.accessAllowed ? 'block' : 'none';\n",
              "\n",
              "        async function convertToInteractive(key) {\n",
              "          const element = document.querySelector('#df-b54094de-e5f1-4dcf-9263-dc754f0de3bf');\n",
              "          const dataTable =\n",
              "            await google.colab.kernel.invokeFunction('convertToInteractive',\n",
              "                                                     [key], {});\n",
              "          if (!dataTable) return;\n",
              "\n",
              "          const docLinkHtml = 'Like what you see? Visit the ' +\n",
              "            '<a target=\"_blank\" href=https://colab.research.google.com/notebooks/data_table.ipynb>data table notebook</a>'\n",
              "            + ' to learn more about interactive tables.';\n",
              "          element.innerHTML = '';\n",
              "          dataTable['output_type'] = 'display_data';\n",
              "          await google.colab.output.renderOutput(dataTable, element);\n",
              "          const docLink = document.createElement('div');\n",
              "          docLink.innerHTML = docLinkHtml;\n",
              "          element.appendChild(docLink);\n",
              "        }\n",
              "      </script>\n",
              "    </div>\n",
              "  </div>\n",
              "  "
            ]
          },
          "metadata": {},
          "execution_count": 3
        }
      ]
    },
    {
      "cell_type": "code",
      "source": [
        "df[\"label\"].value_counts()"
      ],
      "metadata": {
        "colab": {
          "base_uri": "https://localhost:8080/"
        },
        "id": "N33l92CEFCa7",
        "outputId": "009be730-369b-4726-cdf9-7239e4c73129"
      },
      "execution_count": null,
      "outputs": [
        {
          "output_type": "execute_result",
          "data": {
            "text/plain": [
              "Right    136\n",
              "Left     124\n",
              "Under     95\n",
              "Name: label, dtype: int64"
            ]
          },
          "metadata": {},
          "execution_count": 4
        }
      ]
    },
    {
      "cell_type": "code",
      "source": [
        "df.describe()"
      ],
      "metadata": {
        "colab": {
          "base_uri": "https://localhost:8080/",
          "height": 393
        },
        "id": "sT_abU4pErAd",
        "outputId": "91c7adee-6393-4e6a-badf-6d8c387d603b"
      },
      "execution_count": null,
      "outputs": [
        {
          "output_type": "execute_result",
          "data": {
            "text/plain": [
              "               x0          y0          z0  visibility0          x1  \\\n",
              "count  355.000000  355.000000  355.000000   355.000000  355.000000   \n",
              "mean    -0.018100   -0.560573   -0.358592     0.999460   -0.000209   \n",
              "std      0.054594    0.083819    0.087518     0.006222    0.054158   \n",
              "min     -0.214987   -0.654000   -0.659238     0.882778   -0.187726   \n",
              "25%     -0.050023   -0.605586   -0.388545     0.999758   -0.033241   \n",
              "50%     -0.019167   -0.587048   -0.338297     0.999943    0.000871   \n",
              "75%      0.017811   -0.550171   -0.304163     0.999981    0.037034   \n",
              "max      0.221633    0.393636   -0.200052     1.000000    0.225378   \n",
              "\n",
              "               y1          z1  visibility1          x2          y2  ...  \\\n",
              "count  355.000000  355.000000   355.000000  355.000000  355.000000  ...   \n",
              "mean    -0.582361   -0.350809     0.998913    0.000830   -0.582453  ...   \n",
              "std      0.082256    0.089718     0.008634    0.054051    0.082818  ...   \n",
              "min     -0.671676   -0.663687     0.839695   -0.186725   -0.671075  ...   \n",
              "25%     -0.624957   -0.379679     0.999320   -0.032430   -0.625510  ...   \n",
              "50%     -0.607267   -0.332831     0.999857    0.001589   -0.607773  ...   \n",
              "75%     -0.574486   -0.294371     0.999958    0.038474   -0.573615  ...   \n",
              "max      0.401912   -0.191000     1.000000    0.228111    0.400523  ...   \n",
              "\n",
              "              z30  visibility30         x31         y31         z31  \\\n",
              "count  355.000000    355.000000  355.000000  355.000000  355.000000   \n",
              "mean     0.164343      0.719312    0.133146    0.689165    0.193980   \n",
              "std      0.086292      0.272136    0.085625    0.166105    0.081541   \n",
              "min     -0.210843      0.003538   -0.108642    0.131609   -0.098329   \n",
              "25%      0.108514      0.650727    0.085253    0.655675    0.155486   \n",
              "50%      0.187791      0.818214    0.129402    0.766775    0.201594   \n",
              "75%      0.225612      0.926914    0.166862    0.793585    0.234259   \n",
              "max      0.447438      0.984154    0.504503    0.853621    0.523003   \n",
              "\n",
              "       visibility31         x32         y32         z32  visibility32  \n",
              "count    355.000000  355.000000  355.000000  355.000000    355.000000  \n",
              "mean       0.820588   -0.127729    0.654746    0.106279      0.815045  \n",
              "std        0.294713    0.090817    0.162680    0.079326      0.290165  \n",
              "min        0.003957   -0.383080    0.118466   -0.248677      0.002679  \n",
              "25%        0.859300   -0.195940    0.611159    0.062196      0.817635  \n",
              "50%        0.963892   -0.118833    0.734635    0.114309      0.950284  \n",
              "75%        0.986800   -0.067978    0.753651    0.153041      0.983807  \n",
              "max        0.997516    0.147976    0.801024    0.419937      0.997044  \n",
              "\n",
              "[8 rows x 132 columns]"
            ],
            "text/html": [
              "\n",
              "  <div id=\"df-eddd304b-d62f-4f5a-9118-f9064c587c2e\">\n",
              "    <div class=\"colab-df-container\">\n",
              "      <div>\n",
              "<style scoped>\n",
              "    .dataframe tbody tr th:only-of-type {\n",
              "        vertical-align: middle;\n",
              "    }\n",
              "\n",
              "    .dataframe tbody tr th {\n",
              "        vertical-align: top;\n",
              "    }\n",
              "\n",
              "    .dataframe thead th {\n",
              "        text-align: right;\n",
              "    }\n",
              "</style>\n",
              "<table border=\"1\" class=\"dataframe\">\n",
              "  <thead>\n",
              "    <tr style=\"text-align: right;\">\n",
              "      <th></th>\n",
              "      <th>x0</th>\n",
              "      <th>y0</th>\n",
              "      <th>z0</th>\n",
              "      <th>visibility0</th>\n",
              "      <th>x1</th>\n",
              "      <th>y1</th>\n",
              "      <th>z1</th>\n",
              "      <th>visibility1</th>\n",
              "      <th>x2</th>\n",
              "      <th>y2</th>\n",
              "      <th>...</th>\n",
              "      <th>z30</th>\n",
              "      <th>visibility30</th>\n",
              "      <th>x31</th>\n",
              "      <th>y31</th>\n",
              "      <th>z31</th>\n",
              "      <th>visibility31</th>\n",
              "      <th>x32</th>\n",
              "      <th>y32</th>\n",
              "      <th>z32</th>\n",
              "      <th>visibility32</th>\n",
              "    </tr>\n",
              "  </thead>\n",
              "  <tbody>\n",
              "    <tr>\n",
              "      <th>count</th>\n",
              "      <td>355.000000</td>\n",
              "      <td>355.000000</td>\n",
              "      <td>355.000000</td>\n",
              "      <td>355.000000</td>\n",
              "      <td>355.000000</td>\n",
              "      <td>355.000000</td>\n",
              "      <td>355.000000</td>\n",
              "      <td>355.000000</td>\n",
              "      <td>355.000000</td>\n",
              "      <td>355.000000</td>\n",
              "      <td>...</td>\n",
              "      <td>355.000000</td>\n",
              "      <td>355.000000</td>\n",
              "      <td>355.000000</td>\n",
              "      <td>355.000000</td>\n",
              "      <td>355.000000</td>\n",
              "      <td>355.000000</td>\n",
              "      <td>355.000000</td>\n",
              "      <td>355.000000</td>\n",
              "      <td>355.000000</td>\n",
              "      <td>355.000000</td>\n",
              "    </tr>\n",
              "    <tr>\n",
              "      <th>mean</th>\n",
              "      <td>-0.018100</td>\n",
              "      <td>-0.560573</td>\n",
              "      <td>-0.358592</td>\n",
              "      <td>0.999460</td>\n",
              "      <td>-0.000209</td>\n",
              "      <td>-0.582361</td>\n",
              "      <td>-0.350809</td>\n",
              "      <td>0.998913</td>\n",
              "      <td>0.000830</td>\n",
              "      <td>-0.582453</td>\n",
              "      <td>...</td>\n",
              "      <td>0.164343</td>\n",
              "      <td>0.719312</td>\n",
              "      <td>0.133146</td>\n",
              "      <td>0.689165</td>\n",
              "      <td>0.193980</td>\n",
              "      <td>0.820588</td>\n",
              "      <td>-0.127729</td>\n",
              "      <td>0.654746</td>\n",
              "      <td>0.106279</td>\n",
              "      <td>0.815045</td>\n",
              "    </tr>\n",
              "    <tr>\n",
              "      <th>std</th>\n",
              "      <td>0.054594</td>\n",
              "      <td>0.083819</td>\n",
              "      <td>0.087518</td>\n",
              "      <td>0.006222</td>\n",
              "      <td>0.054158</td>\n",
              "      <td>0.082256</td>\n",
              "      <td>0.089718</td>\n",
              "      <td>0.008634</td>\n",
              "      <td>0.054051</td>\n",
              "      <td>0.082818</td>\n",
              "      <td>...</td>\n",
              "      <td>0.086292</td>\n",
              "      <td>0.272136</td>\n",
              "      <td>0.085625</td>\n",
              "      <td>0.166105</td>\n",
              "      <td>0.081541</td>\n",
              "      <td>0.294713</td>\n",
              "      <td>0.090817</td>\n",
              "      <td>0.162680</td>\n",
              "      <td>0.079326</td>\n",
              "      <td>0.290165</td>\n",
              "    </tr>\n",
              "    <tr>\n",
              "      <th>min</th>\n",
              "      <td>-0.214987</td>\n",
              "      <td>-0.654000</td>\n",
              "      <td>-0.659238</td>\n",
              "      <td>0.882778</td>\n",
              "      <td>-0.187726</td>\n",
              "      <td>-0.671676</td>\n",
              "      <td>-0.663687</td>\n",
              "      <td>0.839695</td>\n",
              "      <td>-0.186725</td>\n",
              "      <td>-0.671075</td>\n",
              "      <td>...</td>\n",
              "      <td>-0.210843</td>\n",
              "      <td>0.003538</td>\n",
              "      <td>-0.108642</td>\n",
              "      <td>0.131609</td>\n",
              "      <td>-0.098329</td>\n",
              "      <td>0.003957</td>\n",
              "      <td>-0.383080</td>\n",
              "      <td>0.118466</td>\n",
              "      <td>-0.248677</td>\n",
              "      <td>0.002679</td>\n",
              "    </tr>\n",
              "    <tr>\n",
              "      <th>25%</th>\n",
              "      <td>-0.050023</td>\n",
              "      <td>-0.605586</td>\n",
              "      <td>-0.388545</td>\n",
              "      <td>0.999758</td>\n",
              "      <td>-0.033241</td>\n",
              "      <td>-0.624957</td>\n",
              "      <td>-0.379679</td>\n",
              "      <td>0.999320</td>\n",
              "      <td>-0.032430</td>\n",
              "      <td>-0.625510</td>\n",
              "      <td>...</td>\n",
              "      <td>0.108514</td>\n",
              "      <td>0.650727</td>\n",
              "      <td>0.085253</td>\n",
              "      <td>0.655675</td>\n",
              "      <td>0.155486</td>\n",
              "      <td>0.859300</td>\n",
              "      <td>-0.195940</td>\n",
              "      <td>0.611159</td>\n",
              "      <td>0.062196</td>\n",
              "      <td>0.817635</td>\n",
              "    </tr>\n",
              "    <tr>\n",
              "      <th>50%</th>\n",
              "      <td>-0.019167</td>\n",
              "      <td>-0.587048</td>\n",
              "      <td>-0.338297</td>\n",
              "      <td>0.999943</td>\n",
              "      <td>0.000871</td>\n",
              "      <td>-0.607267</td>\n",
              "      <td>-0.332831</td>\n",
              "      <td>0.999857</td>\n",
              "      <td>0.001589</td>\n",
              "      <td>-0.607773</td>\n",
              "      <td>...</td>\n",
              "      <td>0.187791</td>\n",
              "      <td>0.818214</td>\n",
              "      <td>0.129402</td>\n",
              "      <td>0.766775</td>\n",
              "      <td>0.201594</td>\n",
              "      <td>0.963892</td>\n",
              "      <td>-0.118833</td>\n",
              "      <td>0.734635</td>\n",
              "      <td>0.114309</td>\n",
              "      <td>0.950284</td>\n",
              "    </tr>\n",
              "    <tr>\n",
              "      <th>75%</th>\n",
              "      <td>0.017811</td>\n",
              "      <td>-0.550171</td>\n",
              "      <td>-0.304163</td>\n",
              "      <td>0.999981</td>\n",
              "      <td>0.037034</td>\n",
              "      <td>-0.574486</td>\n",
              "      <td>-0.294371</td>\n",
              "      <td>0.999958</td>\n",
              "      <td>0.038474</td>\n",
              "      <td>-0.573615</td>\n",
              "      <td>...</td>\n",
              "      <td>0.225612</td>\n",
              "      <td>0.926914</td>\n",
              "      <td>0.166862</td>\n",
              "      <td>0.793585</td>\n",
              "      <td>0.234259</td>\n",
              "      <td>0.986800</td>\n",
              "      <td>-0.067978</td>\n",
              "      <td>0.753651</td>\n",
              "      <td>0.153041</td>\n",
              "      <td>0.983807</td>\n",
              "    </tr>\n",
              "    <tr>\n",
              "      <th>max</th>\n",
              "      <td>0.221633</td>\n",
              "      <td>0.393636</td>\n",
              "      <td>-0.200052</td>\n",
              "      <td>1.000000</td>\n",
              "      <td>0.225378</td>\n",
              "      <td>0.401912</td>\n",
              "      <td>-0.191000</td>\n",
              "      <td>1.000000</td>\n",
              "      <td>0.228111</td>\n",
              "      <td>0.400523</td>\n",
              "      <td>...</td>\n",
              "      <td>0.447438</td>\n",
              "      <td>0.984154</td>\n",
              "      <td>0.504503</td>\n",
              "      <td>0.853621</td>\n",
              "      <td>0.523003</td>\n",
              "      <td>0.997516</td>\n",
              "      <td>0.147976</td>\n",
              "      <td>0.801024</td>\n",
              "      <td>0.419937</td>\n",
              "      <td>0.997044</td>\n",
              "    </tr>\n",
              "  </tbody>\n",
              "</table>\n",
              "<p>8 rows × 132 columns</p>\n",
              "</div>\n",
              "      <button class=\"colab-df-convert\" onclick=\"convertToInteractive('df-eddd304b-d62f-4f5a-9118-f9064c587c2e')\"\n",
              "              title=\"Convert this dataframe to an interactive table.\"\n",
              "              style=\"display:none;\">\n",
              "        \n",
              "  <svg xmlns=\"http://www.w3.org/2000/svg\" height=\"24px\"viewBox=\"0 0 24 24\"\n",
              "       width=\"24px\">\n",
              "    <path d=\"M0 0h24v24H0V0z\" fill=\"none\"/>\n",
              "    <path d=\"M18.56 5.44l.94 2.06.94-2.06 2.06-.94-2.06-.94-.94-2.06-.94 2.06-2.06.94zm-11 1L8.5 8.5l.94-2.06 2.06-.94-2.06-.94L8.5 2.5l-.94 2.06-2.06.94zm10 10l.94 2.06.94-2.06 2.06-.94-2.06-.94-.94-2.06-.94 2.06-2.06.94z\"/><path d=\"M17.41 7.96l-1.37-1.37c-.4-.4-.92-.59-1.43-.59-.52 0-1.04.2-1.43.59L10.3 9.45l-7.72 7.72c-.78.78-.78 2.05 0 2.83L4 21.41c.39.39.9.59 1.41.59.51 0 1.02-.2 1.41-.59l7.78-7.78 2.81-2.81c.8-.78.8-2.07 0-2.86zM5.41 20L4 18.59l7.72-7.72 1.47 1.35L5.41 20z\"/>\n",
              "  </svg>\n",
              "      </button>\n",
              "      \n",
              "  <style>\n",
              "    .colab-df-container {\n",
              "      display:flex;\n",
              "      flex-wrap:wrap;\n",
              "      gap: 12px;\n",
              "    }\n",
              "\n",
              "    .colab-df-convert {\n",
              "      background-color: #E8F0FE;\n",
              "      border: none;\n",
              "      border-radius: 50%;\n",
              "      cursor: pointer;\n",
              "      display: none;\n",
              "      fill: #1967D2;\n",
              "      height: 32px;\n",
              "      padding: 0 0 0 0;\n",
              "      width: 32px;\n",
              "    }\n",
              "\n",
              "    .colab-df-convert:hover {\n",
              "      background-color: #E2EBFA;\n",
              "      box-shadow: 0px 1px 2px rgba(60, 64, 67, 0.3), 0px 1px 3px 1px rgba(60, 64, 67, 0.15);\n",
              "      fill: #174EA6;\n",
              "    }\n",
              "\n",
              "    [theme=dark] .colab-df-convert {\n",
              "      background-color: #3B4455;\n",
              "      fill: #D2E3FC;\n",
              "    }\n",
              "\n",
              "    [theme=dark] .colab-df-convert:hover {\n",
              "      background-color: #434B5C;\n",
              "      box-shadow: 0px 1px 3px 1px rgba(0, 0, 0, 0.15);\n",
              "      filter: drop-shadow(0px 1px 2px rgba(0, 0, 0, 0.3));\n",
              "      fill: #FFFFFF;\n",
              "    }\n",
              "  </style>\n",
              "\n",
              "      <script>\n",
              "        const buttonEl =\n",
              "          document.querySelector('#df-eddd304b-d62f-4f5a-9118-f9064c587c2e button.colab-df-convert');\n",
              "        buttonEl.style.display =\n",
              "          google.colab.kernel.accessAllowed ? 'block' : 'none';\n",
              "\n",
              "        async function convertToInteractive(key) {\n",
              "          const element = document.querySelector('#df-eddd304b-d62f-4f5a-9118-f9064c587c2e');\n",
              "          const dataTable =\n",
              "            await google.colab.kernel.invokeFunction('convertToInteractive',\n",
              "                                                     [key], {});\n",
              "          if (!dataTable) return;\n",
              "\n",
              "          const docLinkHtml = 'Like what you see? Visit the ' +\n",
              "            '<a target=\"_blank\" href=https://colab.research.google.com/notebooks/data_table.ipynb>data table notebook</a>'\n",
              "            + ' to learn more about interactive tables.';\n",
              "          element.innerHTML = '';\n",
              "          dataTable['output_type'] = 'display_data';\n",
              "          await google.colab.output.renderOutput(dataTable, element);\n",
              "          const docLink = document.createElement('div');\n",
              "          docLink.innerHTML = docLinkHtml;\n",
              "          element.appendChild(docLink);\n",
              "        }\n",
              "      </script>\n",
              "    </div>\n",
              "  </div>\n",
              "  "
            ]
          },
          "metadata": {},
          "execution_count": 5
        }
      ]
    },
    {
      "cell_type": "code",
      "source": [
        "pd.DataFrame(df.drop([\"label\"], axis=1).to_numpy().reshape((-1, 4)), columns=[\"x\", \"y\", \"z\", \"visibility\"]).describe()"
      ],
      "metadata": {
        "colab": {
          "base_uri": "https://localhost:8080/",
          "height": 300
        },
        "id": "FU_f1RQ5E-q4",
        "outputId": "928fe89a-97d9-4427-efad-5e839782cb22"
      },
      "execution_count": null,
      "outputs": [
        {
          "output_type": "execute_result",
          "data": {
            "text/plain": [
              "                  x             y             z    visibility\n",
              "count  11715.000000  11715.000000  11715.000000  11715.000000\n",
              "mean       0.001803     -0.160823     -0.144602      0.938873\n",
              "std        0.173149      0.482667      0.213627      0.167589\n",
              "min       -0.455996     -0.913535     -0.687807      0.002679\n",
              "25%       -0.107527     -0.586587     -0.309845      0.967721\n",
              "50%       -0.007629     -0.341567     -0.173853      0.995645\n",
              "75%        0.118206      0.116097      0.012053      0.999899\n",
              "max        0.589526      0.853621      0.530271      1.000000"
            ],
            "text/html": [
              "\n",
              "  <div id=\"df-2ecb63b2-1196-4e4a-929f-071c57813b18\">\n",
              "    <div class=\"colab-df-container\">\n",
              "      <div>\n",
              "<style scoped>\n",
              "    .dataframe tbody tr th:only-of-type {\n",
              "        vertical-align: middle;\n",
              "    }\n",
              "\n",
              "    .dataframe tbody tr th {\n",
              "        vertical-align: top;\n",
              "    }\n",
              "\n",
              "    .dataframe thead th {\n",
              "        text-align: right;\n",
              "    }\n",
              "</style>\n",
              "<table border=\"1\" class=\"dataframe\">\n",
              "  <thead>\n",
              "    <tr style=\"text-align: right;\">\n",
              "      <th></th>\n",
              "      <th>x</th>\n",
              "      <th>y</th>\n",
              "      <th>z</th>\n",
              "      <th>visibility</th>\n",
              "    </tr>\n",
              "  </thead>\n",
              "  <tbody>\n",
              "    <tr>\n",
              "      <th>count</th>\n",
              "      <td>11715.000000</td>\n",
              "      <td>11715.000000</td>\n",
              "      <td>11715.000000</td>\n",
              "      <td>11715.000000</td>\n",
              "    </tr>\n",
              "    <tr>\n",
              "      <th>mean</th>\n",
              "      <td>0.001803</td>\n",
              "      <td>-0.160823</td>\n",
              "      <td>-0.144602</td>\n",
              "      <td>0.938873</td>\n",
              "    </tr>\n",
              "    <tr>\n",
              "      <th>std</th>\n",
              "      <td>0.173149</td>\n",
              "      <td>0.482667</td>\n",
              "      <td>0.213627</td>\n",
              "      <td>0.167589</td>\n",
              "    </tr>\n",
              "    <tr>\n",
              "      <th>min</th>\n",
              "      <td>-0.455996</td>\n",
              "      <td>-0.913535</td>\n",
              "      <td>-0.687807</td>\n",
              "      <td>0.002679</td>\n",
              "    </tr>\n",
              "    <tr>\n",
              "      <th>25%</th>\n",
              "      <td>-0.107527</td>\n",
              "      <td>-0.586587</td>\n",
              "      <td>-0.309845</td>\n",
              "      <td>0.967721</td>\n",
              "    </tr>\n",
              "    <tr>\n",
              "      <th>50%</th>\n",
              "      <td>-0.007629</td>\n",
              "      <td>-0.341567</td>\n",
              "      <td>-0.173853</td>\n",
              "      <td>0.995645</td>\n",
              "    </tr>\n",
              "    <tr>\n",
              "      <th>75%</th>\n",
              "      <td>0.118206</td>\n",
              "      <td>0.116097</td>\n",
              "      <td>0.012053</td>\n",
              "      <td>0.999899</td>\n",
              "    </tr>\n",
              "    <tr>\n",
              "      <th>max</th>\n",
              "      <td>0.589526</td>\n",
              "      <td>0.853621</td>\n",
              "      <td>0.530271</td>\n",
              "      <td>1.000000</td>\n",
              "    </tr>\n",
              "  </tbody>\n",
              "</table>\n",
              "</div>\n",
              "      <button class=\"colab-df-convert\" onclick=\"convertToInteractive('df-2ecb63b2-1196-4e4a-929f-071c57813b18')\"\n",
              "              title=\"Convert this dataframe to an interactive table.\"\n",
              "              style=\"display:none;\">\n",
              "        \n",
              "  <svg xmlns=\"http://www.w3.org/2000/svg\" height=\"24px\"viewBox=\"0 0 24 24\"\n",
              "       width=\"24px\">\n",
              "    <path d=\"M0 0h24v24H0V0z\" fill=\"none\"/>\n",
              "    <path d=\"M18.56 5.44l.94 2.06.94-2.06 2.06-.94-2.06-.94-.94-2.06-.94 2.06-2.06.94zm-11 1L8.5 8.5l.94-2.06 2.06-.94-2.06-.94L8.5 2.5l-.94 2.06-2.06.94zm10 10l.94 2.06.94-2.06 2.06-.94-2.06-.94-.94-2.06-.94 2.06-2.06.94z\"/><path d=\"M17.41 7.96l-1.37-1.37c-.4-.4-.92-.59-1.43-.59-.52 0-1.04.2-1.43.59L10.3 9.45l-7.72 7.72c-.78.78-.78 2.05 0 2.83L4 21.41c.39.39.9.59 1.41.59.51 0 1.02-.2 1.41-.59l7.78-7.78 2.81-2.81c.8-.78.8-2.07 0-2.86zM5.41 20L4 18.59l7.72-7.72 1.47 1.35L5.41 20z\"/>\n",
              "  </svg>\n",
              "      </button>\n",
              "      \n",
              "  <style>\n",
              "    .colab-df-container {\n",
              "      display:flex;\n",
              "      flex-wrap:wrap;\n",
              "      gap: 12px;\n",
              "    }\n",
              "\n",
              "    .colab-df-convert {\n",
              "      background-color: #E8F0FE;\n",
              "      border: none;\n",
              "      border-radius: 50%;\n",
              "      cursor: pointer;\n",
              "      display: none;\n",
              "      fill: #1967D2;\n",
              "      height: 32px;\n",
              "      padding: 0 0 0 0;\n",
              "      width: 32px;\n",
              "    }\n",
              "\n",
              "    .colab-df-convert:hover {\n",
              "      background-color: #E2EBFA;\n",
              "      box-shadow: 0px 1px 2px rgba(60, 64, 67, 0.3), 0px 1px 3px 1px rgba(60, 64, 67, 0.15);\n",
              "      fill: #174EA6;\n",
              "    }\n",
              "\n",
              "    [theme=dark] .colab-df-convert {\n",
              "      background-color: #3B4455;\n",
              "      fill: #D2E3FC;\n",
              "    }\n",
              "\n",
              "    [theme=dark] .colab-df-convert:hover {\n",
              "      background-color: #434B5C;\n",
              "      box-shadow: 0px 1px 3px 1px rgba(0, 0, 0, 0.15);\n",
              "      filter: drop-shadow(0px 1px 2px rgba(0, 0, 0, 0.3));\n",
              "      fill: #FFFFFF;\n",
              "    }\n",
              "  </style>\n",
              "\n",
              "      <script>\n",
              "        const buttonEl =\n",
              "          document.querySelector('#df-2ecb63b2-1196-4e4a-929f-071c57813b18 button.colab-df-convert');\n",
              "        buttonEl.style.display =\n",
              "          google.colab.kernel.accessAllowed ? 'block' : 'none';\n",
              "\n",
              "        async function convertToInteractive(key) {\n",
              "          const element = document.querySelector('#df-2ecb63b2-1196-4e4a-929f-071c57813b18');\n",
              "          const dataTable =\n",
              "            await google.colab.kernel.invokeFunction('convertToInteractive',\n",
              "                                                     [key], {});\n",
              "          if (!dataTable) return;\n",
              "\n",
              "          const docLinkHtml = 'Like what you see? Visit the ' +\n",
              "            '<a target=\"_blank\" href=https://colab.research.google.com/notebooks/data_table.ipynb>data table notebook</a>'\n",
              "            + ' to learn more about interactive tables.';\n",
              "          element.innerHTML = '';\n",
              "          dataTable['output_type'] = 'display_data';\n",
              "          await google.colab.output.renderOutput(dataTable, element);\n",
              "          const docLink = document.createElement('div');\n",
              "          docLink.innerHTML = docLinkHtml;\n",
              "          element.appendChild(docLink);\n",
              "        }\n",
              "      </script>\n",
              "    </div>\n",
              "  </div>\n",
              "  "
            ]
          },
          "metadata": {},
          "execution_count": 6
        }
      ]
    },
    {
      "cell_type": "code",
      "source": [
        "from sklearn.model_selection import train_test_split\n",
        "\n",
        "y = df[\"label\"]\n",
        "X = df.drop([\"label\"], axis=1)\n",
        "\n",
        "X_train, X_test, y_train, y_test = train_test_split(X, y, test_size=0.30, random_state=0, stratify=y)"
      ],
      "metadata": {
        "id": "16_JLBzYtKtI"
      },
      "execution_count": null,
      "outputs": []
    },
    {
      "cell_type": "code",
      "source": [
        "from imblearn.over_sampling import SMOTE\n",
        "\n",
        "cols = X.columns\n",
        "smote = SMOTE(random_state=0)\n",
        "X_train, y_train = smote.fit_resample(X_train, y_train)\n",
        "X_train = pd.DataFrame(X_train, columns=cols)\n",
        "X_test = pd.DataFrame(X_test, columns=cols)\n",
        "print(y_train.value_counts())"
      ],
      "metadata": {
        "colab": {
          "base_uri": "https://localhost:8080/"
        },
        "id": "pcQ9XIdZ9KnM",
        "outputId": "a32fb9ed-2edf-4461-f557-f4a8a32b1409"
      },
      "execution_count": null,
      "outputs": [
        {
          "output_type": "stream",
          "name": "stdout",
          "text": [
            "Right    95\n",
            "Left     95\n",
            "Under    95\n",
            "Name: label, dtype: int64\n"
          ]
        }
      ]
    },
    {
      "cell_type": "markdown",
      "source": [
        "# Evalutation with whole dataset"
      ],
      "metadata": {
        "id": "0_DHLlgNaOnw"
      }
    },
    {
      "cell_type": "code",
      "source": [
        "from sklearn.metrics import classification_report, plot_confusion_matrix, plot_roc_curve\n",
        "\n",
        "df_all = pd.read_csv(\"/content/drive/Shareddrives/computer-vision/landmarks_fixed.csv\")\n",
        "df_all.drop(columns=[\"Unnamed: 0\"], inplace=True)\n",
        "\n",
        "def evaluate_dataset(model, X, y):\n",
        "  y_pred = model.predict(X)\n",
        "  print(classification_report(y, y_pred, digits=4))\n",
        "  plot_confusion_matrix(model, X, y)\n",
        "  plt.show()"
      ],
      "metadata": {
        "id": "z7WZ6VpnaOMn"
      },
      "execution_count": null,
      "outputs": []
    },
    {
      "cell_type": "markdown",
      "source": [
        "# No Translation (x, y, z, vis)"
      ],
      "metadata": {
        "id": "1NkRi7jmv1Yv"
      }
    },
    {
      "cell_type": "markdown",
      "source": [
        "## XGBoost"
      ],
      "metadata": {
        "id": "8uvKVYvg2qkF"
      }
    },
    {
      "cell_type": "code",
      "source": [
        "import xgboost as xgb\n",
        "from sklearn.utils import class_weight\n",
        "\n",
        "classes_weights = class_weight.compute_sample_weight(\n",
        "    class_weight='balanced',\n",
        "    y=y_train\n",
        ")\n",
        "model = xgb.XGBClassifier(n_jobs=-1, verbose=10)\n",
        "model.fit(X_train, y_train, sample_weight=classes_weights)"
      ],
      "metadata": {
        "colab": {
          "base_uri": "https://localhost:8080/"
        },
        "id": "eJCF9CE7uemj",
        "outputId": "276901f5-fbe8-48f3-c9f1-c00362ab9b4e"
      },
      "execution_count": null,
      "outputs": [
        {
          "output_type": "execute_result",
          "data": {
            "text/plain": [
              "XGBClassifier(n_jobs=-1, objective='multi:softprob', verbose=10)"
            ]
          },
          "metadata": {},
          "execution_count": 10
        }
      ]
    },
    {
      "cell_type": "code",
      "source": [
        "from sklearn.metrics import classification_report, plot_confusion_matrix, plot_roc_curve\n",
        "\n",
        "y_pred = model.predict(X_train)\n",
        "print(classification_report(y_train, y_pred, digits=4))\n",
        "plot_confusion_matrix(model, X_train, y_train)\n",
        "plt.show()"
      ],
      "metadata": {
        "colab": {
          "base_uri": "https://localhost:8080/",
          "height": 512
        },
        "id": "0n4DQAETgeqz",
        "outputId": "9c9c0efb-c764-4bfd-b64c-e6a7ce768182"
      },
      "execution_count": null,
      "outputs": [
        {
          "output_type": "stream",
          "name": "stdout",
          "text": [
            "              precision    recall  f1-score   support\n",
            "\n",
            "        Left     1.0000    1.0000    1.0000        95\n",
            "       Right     1.0000    1.0000    1.0000        95\n",
            "       Under     1.0000    1.0000    1.0000        95\n",
            "\n",
            "    accuracy                         1.0000       285\n",
            "   macro avg     1.0000    1.0000    1.0000       285\n",
            "weighted avg     1.0000    1.0000    1.0000       285\n",
            "\n"
          ]
        },
        {
          "output_type": "stream",
          "name": "stderr",
          "text": [
            "/usr/local/lib/python3.7/dist-packages/sklearn/utils/deprecation.py:87: FutureWarning: Function plot_confusion_matrix is deprecated; Function `plot_confusion_matrix` is deprecated in 1.0 and will be removed in 1.2. Use one of the class methods: ConfusionMatrixDisplay.from_predictions or ConfusionMatrixDisplay.from_estimator.\n",
            "  warnings.warn(msg, category=FutureWarning)\n"
          ]
        },
        {
          "output_type": "display_data",
          "data": {
            "text/plain": [
              "<Figure size 432x288 with 2 Axes>"
            ],
            "image/png": "[encoded data removed]"
          },
          "metadata": {
            "needs_background": "light"
          }
        }
      ]
    },
    {
      "cell_type": "code",
      "source": [
        "from sklearn.metrics import classification_report, plot_confusion_matrix, plot_roc_curve\n",
        "\n",
        "y_pred = model.predict(X_test)\n",
        "print(classification_report(y_test, y_pred, digits=4))\n",
        "plot_confusion_matrix(model, X_test, y_test)\n",
        "plt.show()"
      ],
      "metadata": {
        "colab": {
          "base_uri": "https://localhost:8080/",
          "height": 512
        },
        "id": "UDPs187pu8ys",
        "outputId": "0daada04-c279-4f26-a9a7-b242c2951eb6"
      },
      "execution_count": null,
      "outputs": [
        {
          "output_type": "stream",
          "name": "stdout",
          "text": [
            "              precision    recall  f1-score   support\n",
            "\n",
            "        Left     1.0000    1.0000    1.0000        37\n",
            "       Right     1.0000    1.0000    1.0000        41\n",
            "       Under     1.0000    1.0000    1.0000        29\n",
            "\n",
            "    accuracy                         1.0000       107\n",
            "   macro avg     1.0000    1.0000    1.0000       107\n",
            "weighted avg     1.0000    1.0000    1.0000       107\n",
            "\n"
          ]
        },
        {
          "output_type": "stream",
          "name": "stderr",
          "text": [
            "/usr/local/lib/python3.7/dist-packages/sklearn/utils/deprecation.py:87: FutureWarning: Function plot_confusion_matrix is deprecated; Function `plot_confusion_matrix` is deprecated in 1.0 and will be removed in 1.2. Use one of the class methods: ConfusionMatrixDisplay.from_predictions or ConfusionMatrixDisplay.from_estimator.\n",
            "  warnings.warn(msg, category=FutureWarning)\n"
          ]
        },
        {
          "output_type": "display_data",
          "data": {
            "text/plain": [
              "<Figure size 432x288 with 2 Axes>"
            ],
            "image/png": "[encoded data removed]"
          },
          "metadata": {
            "needs_background": "light"
          }
        }
      ]
    },
    {
      "cell_type": "code",
      "source": [
        "evaluate_dataset(model, X=df_all.drop([\"label\"], axis=1), y=df_all[\"label\"])"
      ],
      "metadata": {
        "colab": {
          "base_uri": "https://localhost:8080/",
          "height": 512
        },
        "id": "4iepgF4neWao",
        "outputId": "2e83b1b3-f6f6-44c1-95c8-0a2cf08e17fc"
      },
      "execution_count": null,
      "outputs": [
        {
          "output_type": "stream",
          "name": "stdout",
          "text": [
            "              precision    recall  f1-score   support\n",
            "\n",
            "        Left     1.0000    1.0000    1.0000       124\n",
            "       Right     1.0000    1.0000    1.0000       136\n",
            "       Under     1.0000    1.0000    1.0000        95\n",
            "\n",
            "    accuracy                         1.0000       355\n",
            "   macro avg     1.0000    1.0000    1.0000       355\n",
            "weighted avg     1.0000    1.0000    1.0000       355\n",
            "\n"
          ]
        },
        {
          "output_type": "stream",
          "name": "stderr",
          "text": [
            "/usr/local/lib/python3.7/dist-packages/sklearn/utils/deprecation.py:87: FutureWarning: Function plot_confusion_matrix is deprecated; Function `plot_confusion_matrix` is deprecated in 1.0 and will be removed in 1.2. Use one of the class methods: ConfusionMatrixDisplay.from_predictions or ConfusionMatrixDisplay.from_estimator.\n",
            "  warnings.warn(msg, category=FutureWarning)\n"
          ]
        },
        {
          "output_type": "display_data",
          "data": {
            "text/plain": [
              "<Figure size 432x288 with 2 Axes>"
            ],
            "image/png": "[encoded data removed]"
          },
          "metadata": {
            "needs_background": "light"
          }
        }
      ]
    },
    {
      "cell_type": "markdown",
      "source": [
        "## KNN"
      ],
      "metadata": {
        "id": "P7YzYANe2s1m"
      }
    },
    {
      "cell_type": "code",
      "source": [
        "from sklearn.neighbors import KNeighborsClassifier\n",
        "\n",
        "model = KNeighborsClassifier(n_jobs=-1)\n",
        "model.fit(X_train, y_train)"
      ],
      "metadata": {
        "colab": {
          "base_uri": "https://localhost:8080/"
        },
        "id": "jZtU9h3X27IW",
        "outputId": "48104fdd-342f-4154-850b-1bf34ecf9947"
      },
      "execution_count": null,
      "outputs": [
        {
          "output_type": "execute_result",
          "data": {
            "text/plain": [
              "KNeighborsClassifier(n_jobs=-1)"
            ]
          },
          "metadata": {},
          "execution_count": 14
        }
      ]
    },
    {
      "cell_type": "code",
      "source": [
        "from sklearn.metrics import classification_report, plot_confusion_matrix, plot_roc_curve\n",
        "\n",
        "y_pred = model.predict(X_train)\n",
        "print(classification_report(y_train, y_pred, digits=4))\n",
        "plot_confusion_matrix(model, X_train, y_train)\n",
        "plt.show()"
      ],
      "metadata": {
        "colab": {
          "base_uri": "https://localhost:8080/",
          "height": 512
        },
        "id": "Rq97bqYW3Dhh",
        "outputId": "904a309a-6a0e-4c69-fb4c-653c1477f092"
      },
      "execution_count": null,
      "outputs": [
        {
          "output_type": "stream",
          "name": "stdout",
          "text": [
            "              precision    recall  f1-score   support\n",
            "\n",
            "        Left     1.0000    1.0000    1.0000        95\n",
            "       Right     1.0000    1.0000    1.0000        95\n",
            "       Under     1.0000    1.0000    1.0000        95\n",
            "\n",
            "    accuracy                         1.0000       285\n",
            "   macro avg     1.0000    1.0000    1.0000       285\n",
            "weighted avg     1.0000    1.0000    1.0000       285\n",
            "\n"
          ]
        },
        {
          "output_type": "stream",
          "name": "stderr",
          "text": [
            "/usr/local/lib/python3.7/dist-packages/sklearn/utils/deprecation.py:87: FutureWarning: Function plot_confusion_matrix is deprecated; Function `plot_confusion_matrix` is deprecated in 1.0 and will be removed in 1.2. Use one of the class methods: ConfusionMatrixDisplay.from_predictions or ConfusionMatrixDisplay.from_estimator.\n",
            "  warnings.warn(msg, category=FutureWarning)\n"
          ]
        },
        {
          "output_type": "display_data",
          "data": {
            "text/plain": [
              "<Figure size 432x288 with 2 Axes>"
            ],
            "image/png": "[encoded data removed]"
          },
          "metadata": {
            "needs_background": "light"
          }
        }
      ]
    },
    {
      "cell_type": "code",
      "source": [
        "from sklearn.metrics import classification_report, plot_confusion_matrix, plot_roc_curve\n",
        "\n",
        "y_pred = model.predict(X_test)\n",
        "print(classification_report(y_test, y_pred, digits=4))\n",
        "plot_confusion_matrix(model, X_test, y_test)\n",
        "plt.show()"
      ],
      "metadata": {
        "colab": {
          "base_uri": "https://localhost:8080/",
          "height": 512
        },
        "id": "OT2AS7EW3Mi3",
        "outputId": "f6d4262e-799d-4f15-8d76-703e4c1ffa3c"
      },
      "execution_count": null,
      "outputs": [
        {
          "output_type": "stream",
          "name": "stdout",
          "text": [
            "              precision    recall  f1-score   support\n",
            "\n",
            "        Left     1.0000    1.0000    1.0000        37\n",
            "       Right     1.0000    1.0000    1.0000        41\n",
            "       Under     1.0000    1.0000    1.0000        29\n",
            "\n",
            "    accuracy                         1.0000       107\n",
            "   macro avg     1.0000    1.0000    1.0000       107\n",
            "weighted avg     1.0000    1.0000    1.0000       107\n",
            "\n"
          ]
        },
        {
          "output_type": "stream",
          "name": "stderr",
          "text": [
            "/usr/local/lib/python3.7/dist-packages/sklearn/utils/deprecation.py:87: FutureWarning: Function plot_confusion_matrix is deprecated; Function `plot_confusion_matrix` is deprecated in 1.0 and will be removed in 1.2. Use one of the class methods: ConfusionMatrixDisplay.from_predictions or ConfusionMatrixDisplay.from_estimator.\n",
            "  warnings.warn(msg, category=FutureWarning)\n"
          ]
        },
        {
          "output_type": "display_data",
          "data": {
            "text/plain": [
              "<Figure size 432x288 with 2 Axes>"
            ],
            "image/png": "[encoded data removed]"
          },
          "metadata": {
            "needs_background": "light"
          }
        }
      ]
    },
    {
      "cell_type": "code",
      "source": [
        "evaluate_dataset(model, X=df_all.drop([\"label\"], axis=1), y=df_all[\"label\"])"
      ],
      "metadata": {
        "colab": {
          "base_uri": "https://localhost:8080/",
          "height": 512
        },
        "id": "Roo2ypz93N5i",
        "outputId": "0ede7d2e-8e6a-4be5-f638-754a776a415d"
      },
      "execution_count": null,
      "outputs": [
        {
          "output_type": "stream",
          "name": "stdout",
          "text": [
            "              precision    recall  f1-score   support\n",
            "\n",
            "        Left     1.0000    1.0000    1.0000       124\n",
            "       Right     1.0000    1.0000    1.0000       136\n",
            "       Under     1.0000    1.0000    1.0000        95\n",
            "\n",
            "    accuracy                         1.0000       355\n",
            "   macro avg     1.0000    1.0000    1.0000       355\n",
            "weighted avg     1.0000    1.0000    1.0000       355\n",
            "\n"
          ]
        },
        {
          "output_type": "stream",
          "name": "stderr",
          "text": [
            "/usr/local/lib/python3.7/dist-packages/sklearn/utils/deprecation.py:87: FutureWarning: Function plot_confusion_matrix is deprecated; Function `plot_confusion_matrix` is deprecated in 1.0 and will be removed in 1.2. Use one of the class methods: ConfusionMatrixDisplay.from_predictions or ConfusionMatrixDisplay.from_estimator.\n",
            "  warnings.warn(msg, category=FutureWarning)\n"
          ]
        },
        {
          "output_type": "display_data",
          "data": {
            "text/plain": [
              "<Figure size 432x288 with 2 Axes>"
            ],
            "image/png": "[encoded data removed]"
          },
          "metadata": {
            "needs_background": "light"
          }
        }
      ]
    },
    {
      "cell_type": "markdown",
      "source": [
        "# No Translation (x, y, z)"
      ],
      "metadata": {
        "id": "gGWvv1O6-gpm"
      }
    },
    {
      "cell_type": "markdown",
      "source": [
        "## XGBoost"
      ],
      "metadata": {
        "id": "xgUW3kVv2dJk"
      }
    },
    {
      "cell_type": "code",
      "source": [
        "X_train_novis = X_train.drop(list(filter(lambda col: \"visibility\" in col, df.columns)), axis=1)\n",
        "X_test_novis = X_test.drop(list(filter(lambda col: \"visibility\" in col, df.columns)), axis=1)"
      ],
      "metadata": {
        "id": "mLrwHEEQ-mnk"
      },
      "execution_count": null,
      "outputs": []
    },
    {
      "cell_type": "code",
      "source": [
        "import xgboost as xgb\n",
        "from sklearn.utils import class_weight\n",
        "\n",
        "classes_weights = class_weight.compute_sample_weight(\n",
        "    class_weight='balanced',\n",
        "    y=y_train\n",
        ")\n",
        "model = xgb.XGBClassifier(n_jobs=-1, verbose=10)\n",
        "model.fit(X_train_novis, y_train, sample_weight=classes_weights)"
      ],
      "metadata": {
        "colab": {
          "base_uri": "https://localhost:8080/"
        },
        "outputId": "afb9d4e3-41ed-4c4f-9045-724ba4fe1399",
        "id": "pmeHOxL6-mnn"
      },
      "execution_count": null,
      "outputs": [
        {
          "output_type": "execute_result",
          "data": {
            "text/plain": [
              "XGBClassifier(n_jobs=-1, objective='multi:softprob', verbose=10)"
            ]
          },
          "metadata": {},
          "execution_count": 19
        }
      ]
    },
    {
      "cell_type": "code",
      "source": [
        "from sklearn.metrics import classification_report, plot_confusion_matrix, plot_roc_curve\n",
        "\n",
        "y_pred = model.predict(X_train_novis)\n",
        "print(classification_report(y_train, y_pred, digits=4))\n",
        "plot_confusion_matrix(model, X_train_novis, y_train)\n",
        "plt.show()"
      ],
      "metadata": {
        "colab": {
          "base_uri": "https://localhost:8080/",
          "height": 512
        },
        "id": "ZV-MxkeGhVpM",
        "outputId": "ad2882a7-0f8b-4e56-91a3-2bf80c3abc30"
      },
      "execution_count": null,
      "outputs": [
        {
          "output_type": "stream",
          "name": "stdout",
          "text": [
            "              precision    recall  f1-score   support\n",
            "\n",
            "        Left     1.0000    1.0000    1.0000        95\n",
            "       Right     1.0000    1.0000    1.0000        95\n",
            "       Under     1.0000    1.0000    1.0000        95\n",
            "\n",
            "    accuracy                         1.0000       285\n",
            "   macro avg     1.0000    1.0000    1.0000       285\n",
            "weighted avg     1.0000    1.0000    1.0000       285\n",
            "\n"
          ]
        },
        {
          "output_type": "stream",
          "name": "stderr",
          "text": [
            "/usr/local/lib/python3.7/dist-packages/sklearn/utils/deprecation.py:87: FutureWarning: Function plot_confusion_matrix is deprecated; Function `plot_confusion_matrix` is deprecated in 1.0 and will be removed in 1.2. Use one of the class methods: ConfusionMatrixDisplay.from_predictions or ConfusionMatrixDisplay.from_estimator.\n",
            "  warnings.warn(msg, category=FutureWarning)\n"
          ]
        },
        {
          "output_type": "display_data",
          "data": {
            "text/plain": [
              "<Figure size 432x288 with 2 Axes>"
            ],
            "image/png": "[encoded data removed]"
          },
          "metadata": {
            "needs_background": "light"
          }
        }
      ]
    },
    {
      "cell_type": "code",
      "source": [
        "from sklearn.metrics import classification_report, plot_confusion_matrix, plot_roc_curve\n",
        "\n",
        "y_pred = model.predict(X_test_novis)\n",
        "print(classification_report(y_test, y_pred, digits=4))\n",
        "plot_confusion_matrix(model, X_test_novis, y_test)\n",
        "plt.show()"
      ],
      "metadata": {
        "colab": {
          "base_uri": "https://localhost:8080/",
          "height": 512
        },
        "outputId": "e1867e7a-a487-4673-9249-6cb69867e451",
        "id": "dPFNBai1-mnp"
      },
      "execution_count": null,
      "outputs": [
        {
          "output_type": "stream",
          "name": "stdout",
          "text": [
            "              precision    recall  f1-score   support\n",
            "\n",
            "        Left     1.0000    1.0000    1.0000        37\n",
            "       Right     1.0000    1.0000    1.0000        41\n",
            "       Under     1.0000    1.0000    1.0000        29\n",
            "\n",
            "    accuracy                         1.0000       107\n",
            "   macro avg     1.0000    1.0000    1.0000       107\n",
            "weighted avg     1.0000    1.0000    1.0000       107\n",
            "\n"
          ]
        },
        {
          "output_type": "stream",
          "name": "stderr",
          "text": [
            "/usr/local/lib/python3.7/dist-packages/sklearn/utils/deprecation.py:87: FutureWarning: Function plot_confusion_matrix is deprecated; Function `plot_confusion_matrix` is deprecated in 1.0 and will be removed in 1.2. Use one of the class methods: ConfusionMatrixDisplay.from_predictions or ConfusionMatrixDisplay.from_estimator.\n",
            "  warnings.warn(msg, category=FutureWarning)\n"
          ]
        },
        {
          "output_type": "display_data",
          "data": {
            "text/plain": [
              "<Figure size 432x288 with 2 Axes>"
            ],
            "image/png": "[encoded data removed]"
          },
          "metadata": {
            "needs_background": "light"
          }
        }
      ]
    },
    {
      "cell_type": "code",
      "source": [
        "evaluate_dataset(model, X=df_all.drop([\"label\"] + list(filter(lambda col: \"visibility\" in col, df.columns)), axis=1), y=df_all[\"label\"])"
      ],
      "metadata": {
        "colab": {
          "base_uri": "https://localhost:8080/",
          "height": 512
        },
        "id": "qVrh-R8peq11",
        "outputId": "600bbc69-b6a3-4619-81bd-7ecff3ba7a00"
      },
      "execution_count": null,
      "outputs": [
        {
          "output_type": "stream",
          "name": "stdout",
          "text": [
            "              precision    recall  f1-score   support\n",
            "\n",
            "        Left     1.0000    1.0000    1.0000       124\n",
            "       Right     1.0000    1.0000    1.0000       136\n",
            "       Under     1.0000    1.0000    1.0000        95\n",
            "\n",
            "    accuracy                         1.0000       355\n",
            "   macro avg     1.0000    1.0000    1.0000       355\n",
            "weighted avg     1.0000    1.0000    1.0000       355\n",
            "\n"
          ]
        },
        {
          "output_type": "stream",
          "name": "stderr",
          "text": [
            "/usr/local/lib/python3.7/dist-packages/sklearn/utils/deprecation.py:87: FutureWarning: Function plot_confusion_matrix is deprecated; Function `plot_confusion_matrix` is deprecated in 1.0 and will be removed in 1.2. Use one of the class methods: ConfusionMatrixDisplay.from_predictions or ConfusionMatrixDisplay.from_estimator.\n",
            "  warnings.warn(msg, category=FutureWarning)\n"
          ]
        },
        {
          "output_type": "display_data",
          "data": {
            "text/plain": [
              "<Figure size 432x288 with 2 Axes>"
            ],
            "image/png": "[encoded data removed]"
          },
          "metadata": {
            "needs_background": "light"
          }
        }
      ]
    },
    {
      "cell_type": "markdown",
      "source": [
        "## XGBoost with regression (to overcome overfit)"
      ],
      "metadata": {
        "id": "ddIcVAuT2ht4"
      }
    },
    {
      "cell_type": "code",
      "source": [
        "import xgboost as xgb\n",
        "from sklearn.utils import class_weight\n",
        "\n",
        "model = xgb.XGBClassifier(reg_lambda=500, eval_metric=\"mlogloss\", n_jobs=-1, verbose=10)\n",
        "model.fit(X_train_novis, y_train)"
      ],
      "metadata": {
        "colab": {
          "base_uri": "https://localhost:8080/"
        },
        "id": "db__hF7clFeL",
        "outputId": "1a040042-d293-4d54-ad01-296a7591696f"
      },
      "execution_count": null,
      "outputs": [
        {
          "output_type": "execute_result",
          "data": {
            "text/plain": [
              "XGBClassifier(eval_metric='mlogloss', n_jobs=-1, objective='multi:softprob',\n",
              "              reg_lambda=500, verbose=10)"
            ]
          },
          "metadata": {},
          "execution_count": 23
        }
      ]
    },
    {
      "cell_type": "code",
      "source": [
        "from sklearn.metrics import classification_report, plot_confusion_matrix, plot_roc_curve\n",
        "\n",
        "y_pred = model.predict(X_train_novis)\n",
        "print(classification_report(y_train, y_pred, digits=4))\n",
        "plot_confusion_matrix(model, X_train_novis, y_train)\n",
        "plt.show()"
      ],
      "metadata": {
        "colab": {
          "base_uri": "https://localhost:8080/",
          "height": 512
        },
        "id": "ZA7sIA37lQwd",
        "outputId": "f616a141-8ade-43d4-bf74-967ce8f08554"
      },
      "execution_count": null,
      "outputs": [
        {
          "output_type": "stream",
          "name": "stdout",
          "text": [
            "              precision    recall  f1-score   support\n",
            "\n",
            "        Left     1.0000    1.0000    1.0000        95\n",
            "       Right     1.0000    1.0000    1.0000        95\n",
            "       Under     1.0000    1.0000    1.0000        95\n",
            "\n",
            "    accuracy                         1.0000       285\n",
            "   macro avg     1.0000    1.0000    1.0000       285\n",
            "weighted avg     1.0000    1.0000    1.0000       285\n",
            "\n"
          ]
        },
        {
          "output_type": "stream",
          "name": "stderr",
          "text": [
            "/usr/local/lib/python3.7/dist-packages/sklearn/utils/deprecation.py:87: FutureWarning: Function plot_confusion_matrix is deprecated; Function `plot_confusion_matrix` is deprecated in 1.0 and will be removed in 1.2. Use one of the class methods: ConfusionMatrixDisplay.from_predictions or ConfusionMatrixDisplay.from_estimator.\n",
            "  warnings.warn(msg, category=FutureWarning)\n"
          ]
        },
        {
          "output_type": "display_data",
          "data": {
            "text/plain": [
              "<Figure size 432x288 with 2 Axes>"
            ],
            "image/png": "[encoded data removed]"
          },
          "metadata": {
            "needs_background": "light"
          }
        }
      ]
    },
    {
      "cell_type": "code",
      "source": [
        "from sklearn.metrics import classification_report, plot_confusion_matrix, plot_roc_curve\n",
        "\n",
        "y_pred = model.predict(X_test_novis)\n",
        "print(classification_report(y_test, y_pred, digits=4))\n",
        "plot_confusion_matrix(model, X_test_novis, y_test)\n",
        "plt.show()"
      ],
      "metadata": {
        "colab": {
          "base_uri": "https://localhost:8080/",
          "height": 512
        },
        "id": "RWsxgwLnlWmR",
        "outputId": "56fcbb58-6181-4224-9ec7-bb6133225b71"
      },
      "execution_count": null,
      "outputs": [
        {
          "output_type": "stream",
          "name": "stdout",
          "text": [
            "              precision    recall  f1-score   support\n",
            "\n",
            "        Left     1.0000    1.0000    1.0000        37\n",
            "       Right     1.0000    1.0000    1.0000        41\n",
            "       Under     1.0000    1.0000    1.0000        29\n",
            "\n",
            "    accuracy                         1.0000       107\n",
            "   macro avg     1.0000    1.0000    1.0000       107\n",
            "weighted avg     1.0000    1.0000    1.0000       107\n",
            "\n"
          ]
        },
        {
          "output_type": "stream",
          "name": "stderr",
          "text": [
            "/usr/local/lib/python3.7/dist-packages/sklearn/utils/deprecation.py:87: FutureWarning: Function plot_confusion_matrix is deprecated; Function `plot_confusion_matrix` is deprecated in 1.0 and will be removed in 1.2. Use one of the class methods: ConfusionMatrixDisplay.from_predictions or ConfusionMatrixDisplay.from_estimator.\n",
            "  warnings.warn(msg, category=FutureWarning)\n"
          ]
        },
        {
          "output_type": "display_data",
          "data": {
            "text/plain": [
              "<Figure size 432x288 with 2 Axes>"
            ],
            "image/png": "[encoded data removed]"
          },
          "metadata": {
            "needs_background": "light"
          }
        }
      ]
    },
    {
      "cell_type": "markdown",
      "source": [
        "# With Translation (x, y, z, vis)"
      ],
      "metadata": {
        "id": "qfparlUFCWXR"
      }
    },
    {
      "cell_type": "code",
      "source": [
        "X_train_trans = X_train.copy()\n",
        "X_test_trans = X_test.copy()\n",
        "X_all = df_all.drop([\"label\"], axis=1).copy()\n",
        "y_all = df_all[\"label\"].copy()\n",
        "\n",
        "x_cols = [\"x%d\" % i for i in range(33)]\n",
        "y_cols = [\"y%d\" % i for i in range(33)]\n",
        "z_cols = [\"z%d\" % i for i in range(33)]\n",
        "\n",
        "midx = (X_train[\"x23\"] + X_train[\"x24\"]) / 2\n",
        "midy = (X_train[\"y23\"] + X_train[\"y24\"]) / 2\n",
        "midz = (X_train[\"z23\"] + X_train[\"z24\"]) / 2\n",
        "X_train_trans[x_cols] = X_train[x_cols] - midx.to_numpy().reshape(-1, 1)\n",
        "X_train_trans[y_cols] = X_train[y_cols] - midy.to_numpy().reshape(-1, 1)\n",
        "X_train_trans[z_cols] = X_train[z_cols] - midz.to_numpy().reshape(-1, 1)\n",
        "\n",
        "midx = (X_test[\"x23\"] + X_test[\"x24\"]) / 2\n",
        "midy = (X_test[\"y23\"] + X_test[\"y24\"]) / 2\n",
        "midz = (X_test[\"z23\"] + X_test[\"z24\"]) / 2\n",
        "X_test_trans[x_cols] = X_test[x_cols] - midx.to_numpy().reshape(-1, 1)\n",
        "X_test_trans[y_cols] = X_test[y_cols] - midy.to_numpy().reshape(-1, 1)\n",
        "X_test_trans[z_cols] = X_test[z_cols] - midz.to_numpy().reshape(-1, 1)\n",
        "\n",
        "midx = (X_all[\"x23\"] + X_all[\"x24\"]) / 2\n",
        "midy = (X_all[\"y23\"] + X_all[\"y24\"]) / 2\n",
        "midz = (X_all[\"z23\"] + X_all[\"z24\"]) / 2\n",
        "X_all[x_cols] = X_all[x_cols] - midx.to_numpy().reshape(-1, 1)\n",
        "X_all[y_cols] = X_all[y_cols] - midy.to_numpy().reshape(-1, 1)\n",
        "X_all[z_cols] = X_all[z_cols] - midz.to_numpy().reshape(-1, 1)\n",
        "\n",
        "X_train_trans"
      ],
      "metadata": {
        "colab": {
          "base_uri": "https://localhost:8080/",
          "height": 488
        },
        "id": "NTlyTQmTCrDf",
        "outputId": "c8f427cc-66f8-4352-fc6e-8318d5bae468"
      },
      "execution_count": null,
      "outputs": [
        {
          "output_type": "execute_result",
          "data": {
            "text/plain": [
              "           x0        y0        z0  visibility0        x1        y1        z1  \\\n",
              "0    0.026523 -0.583422 -0.368902     0.999990  0.049435 -0.603126 -0.360881   \n",
              "1   -0.037235 -0.604751 -0.305251     0.999926 -0.028218 -0.624022 -0.294275   \n",
              "2    0.029458 -0.580144 -0.361438     0.999977  0.051035 -0.600883 -0.354856   \n",
              "3    0.048794 -0.533501 -0.366192     0.998114  0.072060 -0.557141 -0.360992   \n",
              "4   -0.093764 -0.618572 -0.240954     0.999487 -0.079665 -0.638308 -0.226345   \n",
              "..        ...       ...       ...          ...       ...       ...       ...   \n",
              "280  0.079790 -0.450347 -0.571860     0.999994  0.095857 -0.480469 -0.562677   \n",
              "281 -0.062029 -0.547289 -0.342803     0.999752 -0.034990 -0.570638 -0.336020   \n",
              "282 -0.168433 -0.434600 -0.457867     0.999900 -0.150029 -0.471534 -0.459333   \n",
              "283 -0.082996 -0.404376 -0.533991     0.999840 -0.055857 -0.434601 -0.529567   \n",
              "284  0.063832 -0.489279 -0.450778     0.999866  0.074500 -0.516775 -0.442450   \n",
              "\n",
              "     visibility1        x2        y2  ...       z30  visibility30       x31  \\\n",
              "0       0.999974  0.049908 -0.604315  ...  0.236451      0.948923  0.083112   \n",
              "1       0.999730 -0.027000 -0.623253  ...  0.183547      0.894766  0.108251   \n",
              "2       0.999930  0.051427 -0.602448  ...  0.221324      0.941302  0.047314   \n",
              "3       0.997297  0.072701 -0.557934  ...  0.158468      0.713612  0.240596   \n",
              "4       0.998333 -0.078524 -0.637348  ...  0.157271      0.818214  0.128558   \n",
              "..           ...       ...       ...  ...       ...           ...       ...   \n",
              "280     0.999987  0.097413 -0.477538  ...  0.138899      0.893800  0.194264   \n",
              "281     0.999469 -0.033155 -0.570419  ...  0.113117      0.773969  0.093031   \n",
              "282     0.999885 -0.147312 -0.468755  ...  0.018880      0.972895  0.106737   \n",
              "283     0.999669 -0.055060 -0.433565  ...  0.115450      0.018524  0.011938   \n",
              "284     0.999637  0.077109 -0.515271  ...  0.042139      0.625205  0.105221   \n",
              "\n",
              "          y31       z31  visibility31       x32       y32       z32  \\\n",
              "0    0.785991  0.256450      0.986129 -0.239833  0.716846  0.158808   \n",
              "1    0.792959  0.212794      0.987299 -0.130321  0.759125  0.083370   \n",
              "2    0.782696  0.217583      0.989477 -0.238159  0.728822  0.131673   \n",
              "3    0.476800  0.129802      0.867092 -0.185631  0.416737  0.126227   \n",
              "4    0.810382  0.180194      0.950199 -0.019748  0.783010  0.078735   \n",
              "..        ...       ...           ...       ...       ...       ...   \n",
              "280  0.692475  0.102397      0.963978 -0.249210  0.636735  0.093337   \n",
              "281  0.549459  0.120493      0.917796 -0.119241  0.519699  0.098758   \n",
              "282  0.344386 -0.080617      0.989558 -0.220998  0.347288 -0.028431   \n",
              "283  0.311484  0.148677      0.026330 -0.166966  0.272078  0.149734   \n",
              "284  0.449249  0.126381      0.828474 -0.098044  0.454199  0.025035   \n",
              "\n",
              "     visibility32  \n",
              "0        0.987980  \n",
              "1        0.983616  \n",
              "2        0.988297  \n",
              "3        0.784516  \n",
              "4        0.942815  \n",
              "..            ...  \n",
              "280      0.951920  \n",
              "281      0.902188  \n",
              "282      0.987910  \n",
              "283      0.011968  \n",
              "284      0.818971  \n",
              "\n",
              "[285 rows x 132 columns]"
            ],
            "text/html": [
              "\n",
              "  <div id=\"df-ac92fb20-66a0-43a1-b9ed-511494060163\">\n",
              "    <div class=\"colab-df-container\">\n",
              "      <div>\n",
              "<style scoped>\n",
              "    .dataframe tbody tr th:only-of-type {\n",
              "        vertical-align: middle;\n",
              "    }\n",
              "\n",
              "    .dataframe tbody tr th {\n",
              "        vertical-align: top;\n",
              "    }\n",
              "\n",
              "    .dataframe thead th {\n",
              "        text-align: right;\n",
              "    }\n",
              "</style>\n",
              "<table border=\"1\" class=\"dataframe\">\n",
              "  <thead>\n",
              "    <tr style=\"text-align: right;\">\n",
              "      <th></th>\n",
              "      <th>x0</th>\n",
              "      <th>y0</th>\n",
              "      <th>z0</th>\n",
              "      <th>visibility0</th>\n",
              "      <th>x1</th>\n",
              "      <th>y1</th>\n",
              "      <th>z1</th>\n",
              "      <th>visibility1</th>\n",
              "      <th>x2</th>\n",
              "      <th>y2</th>\n",
              "      <th>...</th>\n",
              "      <th>z30</th>\n",
              "      <th>visibility30</th>\n",
              "      <th>x31</th>\n",
              "      <th>y31</th>\n",
              "      <th>z31</th>\n",
              "      <th>visibility31</th>\n",
              "      <th>x32</th>\n",
              "      <th>y32</th>\n",
              "      <th>z32</th>\n",
              "      <th>visibility32</th>\n",
              "    </tr>\n",
              "  </thead>\n",
              "  <tbody>\n",
              "    <tr>\n",
              "      <th>0</th>\n",
              "      <td>0.026523</td>\n",
              "      <td>-0.583422</td>\n",
              "      <td>-0.368902</td>\n",
              "      <td>0.999990</td>\n",
              "      <td>0.049435</td>\n",
              "      <td>-0.603126</td>\n",
              "      <td>-0.360881</td>\n",
              "      <td>0.999974</td>\n",
              "      <td>0.049908</td>\n",
              "      <td>-0.604315</td>\n",
              "      <td>...</td>\n",
              "      <td>0.236451</td>\n",
              "      <td>0.948923</td>\n",
              "      <td>0.083112</td>\n",
              "      <td>0.785991</td>\n",
              "      <td>0.256450</td>\n",
              "      <td>0.986129</td>\n",
              "      <td>-0.239833</td>\n",
              "      <td>0.716846</td>\n",
              "      <td>0.158808</td>\n",
              "      <td>0.987980</td>\n",
              "    </tr>\n",
              "    <tr>\n",
              "      <th>1</th>\n",
              "      <td>-0.037235</td>\n",
              "      <td>-0.604751</td>\n",
              "      <td>-0.305251</td>\n",
              "      <td>0.999926</td>\n",
              "      <td>-0.028218</td>\n",
              "      <td>-0.624022</td>\n",
              "      <td>-0.294275</td>\n",
              "      <td>0.999730</td>\n",
              "      <td>-0.027000</td>\n",
              "      <td>-0.623253</td>\n",
              "      <td>...</td>\n",
              "      <td>0.183547</td>\n",
              "      <td>0.894766</td>\n",
              "      <td>0.108251</td>\n",
              "      <td>0.792959</td>\n",
              "      <td>0.212794</td>\n",
              "      <td>0.987299</td>\n",
              "      <td>-0.130321</td>\n",
              "      <td>0.759125</td>\n",
              "      <td>0.083370</td>\n",
              "      <td>0.983616</td>\n",
              "    </tr>\n",
              "    <tr>\n",
              "      <th>2</th>\n",
              "      <td>0.029458</td>\n",
              "      <td>-0.580144</td>\n",
              "      <td>-0.361438</td>\n",
              "      <td>0.999977</td>\n",
              "      <td>0.051035</td>\n",
              "      <td>-0.600883</td>\n",
              "      <td>-0.354856</td>\n",
              "      <td>0.999930</td>\n",
              "      <td>0.051427</td>\n",
              "      <td>-0.602448</td>\n",
              "      <td>...</td>\n",
              "      <td>0.221324</td>\n",
              "      <td>0.941302</td>\n",
              "      <td>0.047314</td>\n",
              "      <td>0.782696</td>\n",
              "      <td>0.217583</td>\n",
              "      <td>0.989477</td>\n",
              "      <td>-0.238159</td>\n",
              "      <td>0.728822</td>\n",
              "      <td>0.131673</td>\n",
              "      <td>0.988297</td>\n",
              "    </tr>\n",
              "    <tr>\n",
              "      <th>3</th>\n",
              "      <td>0.048794</td>\n",
              "      <td>-0.533501</td>\n",
              "      <td>-0.366192</td>\n",
              "      <td>0.998114</td>\n",
              "      <td>0.072060</td>\n",
              "      <td>-0.557141</td>\n",
              "      <td>-0.360992</td>\n",
              "      <td>0.997297</td>\n",
              "      <td>0.072701</td>\n",
              "      <td>-0.557934</td>\n",
              "      <td>...</td>\n",
              "      <td>0.158468</td>\n",
              "      <td>0.713612</td>\n",
              "      <td>0.240596</td>\n",
              "      <td>0.476800</td>\n",
              "      <td>0.129802</td>\n",
              "      <td>0.867092</td>\n",
              "      <td>-0.185631</td>\n",
              "      <td>0.416737</td>\n",
              "      <td>0.126227</td>\n",
              "      <td>0.784516</td>\n",
              "    </tr>\n",
              "    <tr>\n",
              "      <th>4</th>\n",
              "      <td>-0.093764</td>\n",
              "      <td>-0.618572</td>\n",
              "      <td>-0.240954</td>\n",
              "      <td>0.999487</td>\n",
              "      <td>-0.079665</td>\n",
              "      <td>-0.638308</td>\n",
              "      <td>-0.226345</td>\n",
              "      <td>0.998333</td>\n",
              "      <td>-0.078524</td>\n",
              "      <td>-0.637348</td>\n",
              "      <td>...</td>\n",
              "      <td>0.157271</td>\n",
              "      <td>0.818214</td>\n",
              "      <td>0.128558</td>\n",
              "      <td>0.810382</td>\n",
              "      <td>0.180194</td>\n",
              "      <td>0.950199</td>\n",
              "      <td>-0.019748</td>\n",
              "      <td>0.783010</td>\n",
              "      <td>0.078735</td>\n",
              "      <td>0.942815</td>\n",
              "    </tr>\n",
              "    <tr>\n",
              "      <th>...</th>\n",
              "      <td>...</td>\n",
              "      <td>...</td>\n",
              "      <td>...</td>\n",
              "      <td>...</td>\n",
              "      <td>...</td>\n",
              "      <td>...</td>\n",
              "      <td>...</td>\n",
              "      <td>...</td>\n",
              "      <td>...</td>\n",
              "      <td>...</td>\n",
              "      <td>...</td>\n",
              "      <td>...</td>\n",
              "      <td>...</td>\n",
              "      <td>...</td>\n",
              "      <td>...</td>\n",
              "      <td>...</td>\n",
              "      <td>...</td>\n",
              "      <td>...</td>\n",
              "      <td>...</td>\n",
              "      <td>...</td>\n",
              "      <td>...</td>\n",
              "    </tr>\n",
              "    <tr>\n",
              "      <th>280</th>\n",
              "      <td>0.079790</td>\n",
              "      <td>-0.450347</td>\n",
              "      <td>-0.571860</td>\n",
              "      <td>0.999994</td>\n",
              "      <td>0.095857</td>\n",
              "      <td>-0.480469</td>\n",
              "      <td>-0.562677</td>\n",
              "      <td>0.999987</td>\n",
              "      <td>0.097413</td>\n",
              "      <td>-0.477538</td>\n",
              "      <td>...</td>\n",
              "      <td>0.138899</td>\n",
              "      <td>0.893800</td>\n",
              "      <td>0.194264</td>\n",
              "      <td>0.692475</td>\n",
              "      <td>0.102397</td>\n",
              "      <td>0.963978</td>\n",
              "      <td>-0.249210</td>\n",
              "      <td>0.636735</td>\n",
              "      <td>0.093337</td>\n",
              "      <td>0.951920</td>\n",
              "    </tr>\n",
              "    <tr>\n",
              "      <th>281</th>\n",
              "      <td>-0.062029</td>\n",
              "      <td>-0.547289</td>\n",
              "      <td>-0.342803</td>\n",
              "      <td>0.999752</td>\n",
              "      <td>-0.034990</td>\n",
              "      <td>-0.570638</td>\n",
              "      <td>-0.336020</td>\n",
              "      <td>0.999469</td>\n",
              "      <td>-0.033155</td>\n",
              "      <td>-0.570419</td>\n",
              "      <td>...</td>\n",
              "      <td>0.113117</td>\n",
              "      <td>0.773969</td>\n",
              "      <td>0.093031</td>\n",
              "      <td>0.549459</td>\n",
              "      <td>0.120493</td>\n",
              "      <td>0.917796</td>\n",
              "      <td>-0.119241</td>\n",
              "      <td>0.519699</td>\n",
              "      <td>0.098758</td>\n",
              "      <td>0.902188</td>\n",
              "    </tr>\n",
              "    <tr>\n",
              "      <th>282</th>\n",
              "      <td>-0.168433</td>\n",
              "      <td>-0.434600</td>\n",
              "      <td>-0.457867</td>\n",
              "      <td>0.999900</td>\n",
              "      <td>-0.150029</td>\n",
              "      <td>-0.471534</td>\n",
              "      <td>-0.459333</td>\n",
              "      <td>0.999885</td>\n",
              "      <td>-0.147312</td>\n",
              "      <td>-0.468755</td>\n",
              "      <td>...</td>\n",
              "      <td>0.018880</td>\n",
              "      <td>0.972895</td>\n",
              "      <td>0.106737</td>\n",
              "      <td>0.344386</td>\n",
              "      <td>-0.080617</td>\n",
              "      <td>0.989558</td>\n",
              "      <td>-0.220998</td>\n",
              "      <td>0.347288</td>\n",
              "      <td>-0.028431</td>\n",
              "      <td>0.987910</td>\n",
              "    </tr>\n",
              "    <tr>\n",
              "      <th>283</th>\n",
              "      <td>-0.082996</td>\n",
              "      <td>-0.404376</td>\n",
              "      <td>-0.533991</td>\n",
              "      <td>0.999840</td>\n",
              "      <td>-0.055857</td>\n",
              "      <td>-0.434601</td>\n",
              "      <td>-0.529567</td>\n",
              "      <td>0.999669</td>\n",
              "      <td>-0.055060</td>\n",
              "      <td>-0.433565</td>\n",
              "      <td>...</td>\n",
              "      <td>0.115450</td>\n",
              "      <td>0.018524</td>\n",
              "      <td>0.011938</td>\n",
              "      <td>0.311484</td>\n",
              "      <td>0.148677</td>\n",
              "      <td>0.026330</td>\n",
              "      <td>-0.166966</td>\n",
              "      <td>0.272078</td>\n",
              "      <td>0.149734</td>\n",
              "      <td>0.011968</td>\n",
              "    </tr>\n",
              "    <tr>\n",
              "      <th>284</th>\n",
              "      <td>0.063832</td>\n",
              "      <td>-0.489279</td>\n",
              "      <td>-0.450778</td>\n",
              "      <td>0.999866</td>\n",
              "      <td>0.074500</td>\n",
              "      <td>-0.516775</td>\n",
              "      <td>-0.442450</td>\n",
              "      <td>0.999637</td>\n",
              "      <td>0.077109</td>\n",
              "      <td>-0.515271</td>\n",
              "      <td>...</td>\n",
              "      <td>0.042139</td>\n",
              "      <td>0.625205</td>\n",
              "      <td>0.105221</td>\n",
              "      <td>0.449249</td>\n",
              "      <td>0.126381</td>\n",
              "      <td>0.828474</td>\n",
              "      <td>-0.098044</td>\n",
              "      <td>0.454199</td>\n",
              "      <td>0.025035</td>\n",
              "      <td>0.818971</td>\n",
              "    </tr>\n",
              "  </tbody>\n",
              "</table>\n",
              "<p>285 rows × 132 columns</p>\n",
              "</div>\n",
              "      <button class=\"colab-df-convert\" onclick=\"convertToInteractive('df-ac92fb20-66a0-43a1-b9ed-511494060163')\"\n",
              "              title=\"Convert this dataframe to an interactive table.\"\n",
              "              style=\"display:none;\">\n",
              "        \n",
              "  <svg xmlns=\"http://www.w3.org/2000/svg\" height=\"24px\"viewBox=\"0 0 24 24\"\n",
              "       width=\"24px\">\n",
              "    <path d=\"M0 0h24v24H0V0z\" fill=\"none\"/>\n",
              "    <path d=\"M18.56 5.44l.94 2.06.94-2.06 2.06-.94-2.06-.94-.94-2.06-.94 2.06-2.06.94zm-11 1L8.5 8.5l.94-2.06 2.06-.94-2.06-.94L8.5 2.5l-.94 2.06-2.06.94zm10 10l.94 2.06.94-2.06 2.06-.94-2.06-.94-.94-2.06-.94 2.06-2.06.94z\"/><path d=\"M17.41 7.96l-1.37-1.37c-.4-.4-.92-.59-1.43-.59-.52 0-1.04.2-1.43.59L10.3 9.45l-7.72 7.72c-.78.78-.78 2.05 0 2.83L4 21.41c.39.39.9.59 1.41.59.51 0 1.02-.2 1.41-.59l7.78-7.78 2.81-2.81c.8-.78.8-2.07 0-2.86zM5.41 20L4 18.59l7.72-7.72 1.47 1.35L5.41 20z\"/>\n",
              "  </svg>\n",
              "      </button>\n",
              "      \n",
              "  <style>\n",
              "    .colab-df-container {\n",
              "      display:flex;\n",
              "      flex-wrap:wrap;\n",
              "      gap: 12px;\n",
              "    }\n",
              "\n",
              "    .colab-df-convert {\n",
              "      background-color: #E8F0FE;\n",
              "      border: none;\n",
              "      border-radius: 50%;\n",
              "      cursor: pointer;\n",
              "      display: none;\n",
              "      fill: #1967D2;\n",
              "      height: 32px;\n",
              "      padding: 0 0 0 0;\n",
              "      width: 32px;\n",
              "    }\n",
              "\n",
              "    .colab-df-convert:hover {\n",
              "      background-color: #E2EBFA;\n",
              "      box-shadow: 0px 1px 2px rgba(60, 64, 67, 0.3), 0px 1px 3px 1px rgba(60, 64, 67, 0.15);\n",
              "      fill: #174EA6;\n",
              "    }\n",
              "\n",
              "    [theme=dark] .colab-df-convert {\n",
              "      background-color: #3B4455;\n",
              "      fill: #D2E3FC;\n",
              "    }\n",
              "\n",
              "    [theme=dark] .colab-df-convert:hover {\n",
              "      background-color: #434B5C;\n",
              "      box-shadow: 0px 1px 3px 1px rgba(0, 0, 0, 0.15);\n",
              "      filter: drop-shadow(0px 1px 2px rgba(0, 0, 0, 0.3));\n",
              "      fill: #FFFFFF;\n",
              "    }\n",
              "  </style>\n",
              "\n",
              "      <script>\n",
              "        const buttonEl =\n",
              "          document.querySelector('#df-ac92fb20-66a0-43a1-b9ed-511494060163 button.colab-df-convert');\n",
              "        buttonEl.style.display =\n",
              "          google.colab.kernel.accessAllowed ? 'block' : 'none';\n",
              "\n",
              "        async function convertToInteractive(key) {\n",
              "          const element = document.querySelector('#df-ac92fb20-66a0-43a1-b9ed-511494060163');\n",
              "          const dataTable =\n",
              "            await google.colab.kernel.invokeFunction('convertToInteractive',\n",
              "                                                     [key], {});\n",
              "          if (!dataTable) return;\n",
              "\n",
              "          const docLinkHtml = 'Like what you see? Visit the ' +\n",
              "            '<a target=\"_blank\" href=https://colab.research.google.com/notebooks/data_table.ipynb>data table notebook</a>'\n",
              "            + ' to learn more about interactive tables.';\n",
              "          element.innerHTML = '';\n",
              "          dataTable['output_type'] = 'display_data';\n",
              "          await google.colab.output.renderOutput(dataTable, element);\n",
              "          const docLink = document.createElement('div');\n",
              "          docLink.innerHTML = docLinkHtml;\n",
              "          element.appendChild(docLink);\n",
              "        }\n",
              "      </script>\n",
              "    </div>\n",
              "  </div>\n",
              "  "
            ]
          },
          "metadata": {},
          "execution_count": 35
        }
      ]
    },
    {
      "cell_type": "markdown",
      "source": [
        "## XGBoost"
      ],
      "metadata": {
        "id": "MO1HVAdP2zbd"
      }
    },
    {
      "cell_type": "code",
      "source": [
        "import xgboost as xgb\n",
        "from sklearn.utils import class_weight\n",
        "\n",
        "classes_weights = class_weight.compute_sample_weight(\n",
        "    class_weight='balanced',\n",
        "    y=y_train\n",
        ")\n",
        "model = xgb.XGBClassifier(n_jobs=-1, verbose=10)\n",
        "model.fit(X_train_trans, y_train, sample_weight=classes_weights)"
      ],
      "metadata": {
        "colab": {
          "base_uri": "https://localhost:8080/"
        },
        "id": "O9DsgzKKCRpk",
        "outputId": "a04c19d6-ae83-4542-ae12-42d172117a76"
      },
      "execution_count": null,
      "outputs": [
        {
          "output_type": "execute_result",
          "data": {
            "text/plain": [
              "XGBClassifier(n_jobs=-1, objective='multi:softprob', verbose=10)"
            ]
          },
          "metadata": {},
          "execution_count": 36
        }
      ]
    },
    {
      "cell_type": "code",
      "source": [
        "from sklearn.metrics import classification_report, plot_confusion_matrix, plot_roc_curve\n",
        "\n",
        "y_pred = model.predict(X_train_trans)\n",
        "print(classification_report(y_train, y_pred, digits=4))\n",
        "plot_confusion_matrix(model, X_train_trans, y_train)\n",
        "plt.show()"
      ],
      "metadata": {
        "colab": {
          "base_uri": "https://localhost:8080/",
          "height": 512
        },
        "id": "1OK7xlvfheBM",
        "outputId": "b797da41-271b-49f2-c6c4-3da400409eb5"
      },
      "execution_count": null,
      "outputs": [
        {
          "output_type": "stream",
          "name": "stdout",
          "text": [
            "              precision    recall  f1-score   support\n",
            "\n",
            "        Left     1.0000    1.0000    1.0000        95\n",
            "       Right     1.0000    1.0000    1.0000        95\n",
            "       Under     1.0000    1.0000    1.0000        95\n",
            "\n",
            "    accuracy                         1.0000       285\n",
            "   macro avg     1.0000    1.0000    1.0000       285\n",
            "weighted avg     1.0000    1.0000    1.0000       285\n",
            "\n"
          ]
        },
        {
          "output_type": "stream",
          "name": "stderr",
          "text": [
            "/usr/local/lib/python3.7/dist-packages/sklearn/utils/deprecation.py:87: FutureWarning: Function plot_confusion_matrix is deprecated; Function `plot_confusion_matrix` is deprecated in 1.0 and will be removed in 1.2. Use one of the class methods: ConfusionMatrixDisplay.from_predictions or ConfusionMatrixDisplay.from_estimator.\n",
            "  warnings.warn(msg, category=FutureWarning)\n"
          ]
        },
        {
          "output_type": "display_data",
          "data": {
            "text/plain": [
              "<Figure size 432x288 with 2 Axes>"
            ],
            "image/png": "[encoded data removed]"
          },
          "metadata": {
            "needs_background": "light"
          }
        }
      ]
    },
    {
      "cell_type": "code",
      "source": [
        "from sklearn.metrics import classification_report, plot_confusion_matrix, plot_roc_curve\n",
        "\n",
        "y_pred = model.predict(X_test_trans)\n",
        "print(classification_report(y_test, y_pred, digits=4))\n",
        "plot_confusion_matrix(model, X_test_trans, y_test)\n",
        "plt.show()"
      ],
      "metadata": {
        "colab": {
          "base_uri": "https://localhost:8080/",
          "height": 512
        },
        "id": "vyPCSsnrHvl9",
        "outputId": "5312ce8f-4e60-4510-abb6-0121df1135a4"
      },
      "execution_count": null,
      "outputs": [
        {
          "output_type": "stream",
          "name": "stdout",
          "text": [
            "              precision    recall  f1-score   support\n",
            "\n",
            "        Left     1.0000    1.0000    1.0000        37\n",
            "       Right     1.0000    1.0000    1.0000        41\n",
            "       Under     1.0000    1.0000    1.0000        29\n",
            "\n",
            "    accuracy                         1.0000       107\n",
            "   macro avg     1.0000    1.0000    1.0000       107\n",
            "weighted avg     1.0000    1.0000    1.0000       107\n",
            "\n"
          ]
        },
        {
          "output_type": "stream",
          "name": "stderr",
          "text": [
            "/usr/local/lib/python3.7/dist-packages/sklearn/utils/deprecation.py:87: FutureWarning: Function plot_confusion_matrix is deprecated; Function `plot_confusion_matrix` is deprecated in 1.0 and will be removed in 1.2. Use one of the class methods: ConfusionMatrixDisplay.from_predictions or ConfusionMatrixDisplay.from_estimator.\n",
            "  warnings.warn(msg, category=FutureWarning)\n"
          ]
        },
        {
          "output_type": "display_data",
          "data": {
            "text/plain": [
              "<Figure size 432x288 with 2 Axes>"
            ],
            "image/png": "[encoded data removed]"
          },
          "metadata": {
            "needs_background": "light"
          }
        }
      ]
    },
    {
      "cell_type": "code",
      "source": [
        "evaluate_dataset(model, X=X_all, y=y_all)"
      ],
      "metadata": {
        "colab": {
          "base_uri": "https://localhost:8080/",
          "height": 512
        },
        "id": "zKGT0O0fe920",
        "outputId": "0cb7976f-d021-4066-b9f7-d13b2ac0b2ab"
      },
      "execution_count": null,
      "outputs": [
        {
          "output_type": "stream",
          "name": "stdout",
          "text": [
            "              precision    recall  f1-score   support\n",
            "\n",
            "        Left     1.0000    1.0000    1.0000       124\n",
            "       Right     1.0000    1.0000    1.0000       136\n",
            "       Under     1.0000    1.0000    1.0000        95\n",
            "\n",
            "    accuracy                         1.0000       355\n",
            "   macro avg     1.0000    1.0000    1.0000       355\n",
            "weighted avg     1.0000    1.0000    1.0000       355\n",
            "\n"
          ]
        },
        {
          "output_type": "stream",
          "name": "stderr",
          "text": [
            "/usr/local/lib/python3.7/dist-packages/sklearn/utils/deprecation.py:87: FutureWarning: Function plot_confusion_matrix is deprecated; Function `plot_confusion_matrix` is deprecated in 1.0 and will be removed in 1.2. Use one of the class methods: ConfusionMatrixDisplay.from_predictions or ConfusionMatrixDisplay.from_estimator.\n",
            "  warnings.warn(msg, category=FutureWarning)\n"
          ]
        },
        {
          "output_type": "display_data",
          "data": {
            "text/plain": [
              "<Figure size 432x288 with 2 Axes>"
            ],
            "image/png": "[encoded data removed]"
          },
          "metadata": {
            "needs_background": "light"
          }
        }
      ]
    },
    {
      "cell_type": "markdown",
      "source": [
        "## KNN"
      ],
      "metadata": {
        "id": "KqURxsn-22Zo"
      }
    },
    {
      "cell_type": "code",
      "source": [
        "from sklearn.neighbors import KNeighborsClassifier\n",
        "\n",
        "model = KNeighborsClassifier(n_jobs=-1)\n",
        "model.fit(X_train_trans, y_train)"
      ],
      "metadata": {
        "colab": {
          "base_uri": "https://localhost:8080/"
        },
        "id": "oWnwklrZIAal",
        "outputId": "5aad5206-345b-4a62-f77b-41a834b9f9d0"
      },
      "execution_count": null,
      "outputs": [
        {
          "output_type": "execute_result",
          "data": {
            "text/plain": [
              "KNeighborsClassifier(n_jobs=-1)"
            ]
          },
          "metadata": {},
          "execution_count": 40
        }
      ]
    },
    {
      "cell_type": "code",
      "source": [
        "from sklearn.metrics import classification_report, plot_confusion_matrix, plot_roc_curve\n",
        "\n",
        "y_pred = model.predict(X_train_trans)\n",
        "print(classification_report(y_train, y_pred, digits=4))\n",
        "plot_confusion_matrix(model, X_train_trans, y_train)\n",
        "plt.show()"
      ],
      "metadata": {
        "colab": {
          "base_uri": "https://localhost:8080/",
          "height": 512
        },
        "id": "XuqCpTtThoAk",
        "outputId": "a25d9af5-dd43-4ef5-cbf3-b4cddbf5d1ab"
      },
      "execution_count": null,
      "outputs": [
        {
          "output_type": "stream",
          "name": "stdout",
          "text": [
            "              precision    recall  f1-score   support\n",
            "\n",
            "        Left     1.0000    1.0000    1.0000        95\n",
            "       Right     1.0000    1.0000    1.0000        95\n",
            "       Under     1.0000    1.0000    1.0000        95\n",
            "\n",
            "    accuracy                         1.0000       285\n",
            "   macro avg     1.0000    1.0000    1.0000       285\n",
            "weighted avg     1.0000    1.0000    1.0000       285\n",
            "\n"
          ]
        },
        {
          "output_type": "stream",
          "name": "stderr",
          "text": [
            "/usr/local/lib/python3.7/dist-packages/sklearn/utils/deprecation.py:87: FutureWarning: Function plot_confusion_matrix is deprecated; Function `plot_confusion_matrix` is deprecated in 1.0 and will be removed in 1.2. Use one of the class methods: ConfusionMatrixDisplay.from_predictions or ConfusionMatrixDisplay.from_estimator.\n",
            "  warnings.warn(msg, category=FutureWarning)\n"
          ]
        },
        {
          "output_type": "display_data",
          "data": {
            "text/plain": [
              "<Figure size 432x288 with 2 Axes>"
            ],
            "image/png": "[encoded data removed]"
          },
          "metadata": {
            "needs_background": "light"
          }
        }
      ]
    },
    {
      "cell_type": "code",
      "source": [
        "from sklearn.metrics import classification_report, plot_confusion_matrix, plot_roc_curve\n",
        "\n",
        "y_pred = model.predict(X_test_trans)\n",
        "print(classification_report(y_test, y_pred, digits=4))\n",
        "plot_confusion_matrix(model, X_test_trans, y_test)\n",
        "plt.show()"
      ],
      "metadata": {
        "colab": {
          "base_uri": "https://localhost:8080/",
          "height": 512
        },
        "id": "7FgZcKPhIYhC",
        "outputId": "4349f062-e352-41b8-de79-5d6d04b3bd99"
      },
      "execution_count": null,
      "outputs": [
        {
          "output_type": "stream",
          "name": "stdout",
          "text": [
            "              precision    recall  f1-score   support\n",
            "\n",
            "        Left     1.0000    1.0000    1.0000        37\n",
            "       Right     1.0000    1.0000    1.0000        41\n",
            "       Under     1.0000    1.0000    1.0000        29\n",
            "\n",
            "    accuracy                         1.0000       107\n",
            "   macro avg     1.0000    1.0000    1.0000       107\n",
            "weighted avg     1.0000    1.0000    1.0000       107\n",
            "\n"
          ]
        },
        {
          "output_type": "stream",
          "name": "stderr",
          "text": [
            "/usr/local/lib/python3.7/dist-packages/sklearn/utils/deprecation.py:87: FutureWarning: Function plot_confusion_matrix is deprecated; Function `plot_confusion_matrix` is deprecated in 1.0 and will be removed in 1.2. Use one of the class methods: ConfusionMatrixDisplay.from_predictions or ConfusionMatrixDisplay.from_estimator.\n",
            "  warnings.warn(msg, category=FutureWarning)\n"
          ]
        },
        {
          "output_type": "display_data",
          "data": {
            "text/plain": [
              "<Figure size 432x288 with 2 Axes>"
            ],
            "image/png": "[encoded data removed]"
          },
          "metadata": {
            "needs_background": "light"
          }
        }
      ]
    },
    {
      "cell_type": "code",
      "source": [
        "evaluate_dataset(model, X=X_all, y=y_all)"
      ],
      "metadata": {
        "id": "xS6yU3T0InJF",
        "colab": {
          "base_uri": "https://localhost:8080/",
          "height": 512
        },
        "outputId": "04c71980-6d17-417f-f430-96535d61ed95"
      },
      "execution_count": null,
      "outputs": [
        {
          "output_type": "stream",
          "name": "stdout",
          "text": [
            "              precision    recall  f1-score   support\n",
            "\n",
            "        Left     1.0000    1.0000    1.0000       124\n",
            "       Right     1.0000    1.0000    1.0000       136\n",
            "       Under     1.0000    1.0000    1.0000        95\n",
            "\n",
            "    accuracy                         1.0000       355\n",
            "   macro avg     1.0000    1.0000    1.0000       355\n",
            "weighted avg     1.0000    1.0000    1.0000       355\n",
            "\n"
          ]
        },
        {
          "output_type": "stream",
          "name": "stderr",
          "text": [
            "/usr/local/lib/python3.7/dist-packages/sklearn/utils/deprecation.py:87: FutureWarning: Function plot_confusion_matrix is deprecated; Function `plot_confusion_matrix` is deprecated in 1.0 and will be removed in 1.2. Use one of the class methods: ConfusionMatrixDisplay.from_predictions or ConfusionMatrixDisplay.from_estimator.\n",
            "  warnings.warn(msg, category=FutureWarning)\n"
          ]
        },
        {
          "output_type": "display_data",
          "data": {
            "text/plain": [
              "<Figure size 432x288 with 2 Axes>"
            ],
            "image/png": "[encoded data removed]"
          },
          "metadata": {
            "needs_background": "light"
          }
        }
      ]
    }
  ]
}